{
 "cells": [
  {
   "cell_type": "code",
   "execution_count": 2,
   "metadata": {},
   "outputs": [],
   "source": [
    "!jt -t chesterish -cellw 90% -lineh 170"
   ]
  },
  {
   "cell_type": "code",
   "execution_count": 1,
   "metadata": {},
   "outputs": [],
   "source": [
    "import numpy as np\n",
    "import pandas as pd"
   ]
  },
  {
   "cell_type": "code",
   "execution_count": 2,
   "metadata": {},
   "outputs": [],
   "source": [
    "dataset=pd.read_excel('flood dataset.xlsx')"
   ]
  },
  {
   "cell_type": "code",
   "execution_count": 4,
   "metadata": {
    "scrolled": true
   },
   "outputs": [
    {
     "data": {
      "text/html": [
       "<div>\n",
       "<style scoped>\n",
       "    .dataframe tbody tr th:only-of-type {\n",
       "        vertical-align: middle;\n",
       "    }\n",
       "\n",
       "    .dataframe tbody tr th {\n",
       "        vertical-align: top;\n",
       "    }\n",
       "\n",
       "    .dataframe thead th {\n",
       "        text-align: right;\n",
       "    }\n",
       "</style>\n",
       "<table border=\"1\" class=\"dataframe\">\n",
       "  <thead>\n",
       "    <tr style=\"text-align: right;\">\n",
       "      <th></th>\n",
       "      <th>Unnamed: 0</th>\n",
       "      <th>Temp</th>\n",
       "      <th>Humidity</th>\n",
       "      <th>Cloud</th>\n",
       "      <th>ANNUAL</th>\n",
       "      <th>Jan-Feb</th>\n",
       "      <th>Mar-May</th>\n",
       "      <th>Jun-Sep</th>\n",
       "      <th>Oct-Dec</th>\n",
       "      <th>avgjune</th>\n",
       "      <th>sub</th>\n",
       "      <th>flood</th>\n",
       "    </tr>\n",
       "  </thead>\n",
       "  <tbody>\n",
       "    <tr>\n",
       "      <th>0</th>\n",
       "      <td>0</td>\n",
       "      <td>29</td>\n",
       "      <td>70</td>\n",
       "      <td>30</td>\n",
       "      <td>3248.6</td>\n",
       "      <td>73.4</td>\n",
       "      <td>386.2</td>\n",
       "      <td>2122.8</td>\n",
       "      <td>666.1</td>\n",
       "      <td>274.866667</td>\n",
       "      <td>649.9</td>\n",
       "      <td>0</td>\n",
       "    </tr>\n",
       "    <tr>\n",
       "      <th>1</th>\n",
       "      <td>1</td>\n",
       "      <td>28</td>\n",
       "      <td>75</td>\n",
       "      <td>40</td>\n",
       "      <td>3326.6</td>\n",
       "      <td>9.3</td>\n",
       "      <td>275.7</td>\n",
       "      <td>2403.4</td>\n",
       "      <td>638.2</td>\n",
       "      <td>130.300000</td>\n",
       "      <td>256.4</td>\n",
       "      <td>1</td>\n",
       "    </tr>\n",
       "    <tr>\n",
       "      <th>2</th>\n",
       "      <td>2</td>\n",
       "      <td>28</td>\n",
       "      <td>75</td>\n",
       "      <td>42</td>\n",
       "      <td>3271.2</td>\n",
       "      <td>21.7</td>\n",
       "      <td>336.3</td>\n",
       "      <td>2343.0</td>\n",
       "      <td>570.1</td>\n",
       "      <td>186.200000</td>\n",
       "      <td>308.9</td>\n",
       "      <td>0</td>\n",
       "    </tr>\n",
       "    <tr>\n",
       "      <th>3</th>\n",
       "      <td>3</td>\n",
       "      <td>29</td>\n",
       "      <td>71</td>\n",
       "      <td>44</td>\n",
       "      <td>3129.7</td>\n",
       "      <td>26.7</td>\n",
       "      <td>339.4</td>\n",
       "      <td>2398.2</td>\n",
       "      <td>365.3</td>\n",
       "      <td>366.066667</td>\n",
       "      <td>862.5</td>\n",
       "      <td>0</td>\n",
       "    </tr>\n",
       "    <tr>\n",
       "      <th>4</th>\n",
       "      <td>4</td>\n",
       "      <td>31</td>\n",
       "      <td>74</td>\n",
       "      <td>40</td>\n",
       "      <td>2741.6</td>\n",
       "      <td>23.4</td>\n",
       "      <td>378.5</td>\n",
       "      <td>1881.5</td>\n",
       "      <td>458.1</td>\n",
       "      <td>283.400000</td>\n",
       "      <td>586.9</td>\n",
       "      <td>0</td>\n",
       "    </tr>\n",
       "  </tbody>\n",
       "</table>\n",
       "</div>"
      ],
      "text/plain": [
       "   Unnamed: 0  Temp  Humidity  Cloud  ANNUAL  Jan-Feb  Mar-May  Jun-Sep  \\\n",
       "0           0    29        70     30  3248.6     73.4    386.2   2122.8   \n",
       "1           1    28        75     40  3326.6      9.3    275.7   2403.4   \n",
       "2           2    28        75     42  3271.2     21.7    336.3   2343.0   \n",
       "3           3    29        71     44  3129.7     26.7    339.4   2398.2   \n",
       "4           4    31        74     40  2741.6     23.4    378.5   1881.5   \n",
       "\n",
       "   Oct-Dec     avgjune    sub  flood  \n",
       "0    666.1  274.866667  649.9      0  \n",
       "1    638.2  130.300000  256.4      1  \n",
       "2    570.1  186.200000  308.9      0  \n",
       "3    365.3  366.066667  862.5      0  \n",
       "4    458.1  283.400000  586.9      0  "
      ]
     },
     "execution_count": 4,
     "metadata": {},
     "output_type": "execute_result"
    }
   ],
   "source": [
    "dataset.head()"
   ]
  },
  {
   "cell_type": "code",
   "execution_count": 5,
   "metadata": {},
   "outputs": [
    {
     "name": "stdout",
     "output_type": "stream",
     "text": [
      "(115, 12)\n"
     ]
    }
   ],
   "source": [
    "print(dataset.shape)"
   ]
  },
  {
   "cell_type": "code",
   "execution_count": 6,
   "metadata": {},
   "outputs": [
    {
     "name": "stdout",
     "output_type": "stream",
     "text": [
      "<class 'pandas.core.frame.DataFrame'>\n",
      "RangeIndex: 115 entries, 0 to 114\n",
      "Data columns (total 12 columns):\n",
      " #   Column      Non-Null Count  Dtype  \n",
      "---  ------      --------------  -----  \n",
      " 0   Unnamed: 0  115 non-null    int64  \n",
      " 1   Temp        115 non-null    int64  \n",
      " 2   Humidity    115 non-null    int64  \n",
      " 3   Cloud       115 non-null    int64  \n",
      " 4   ANNUAL      115 non-null    float64\n",
      " 5   Jan-Feb     115 non-null    float64\n",
      " 6   Mar-May     115 non-null    float64\n",
      " 7   Jun-Sep     115 non-null    float64\n",
      " 8   Oct-Dec     115 non-null    float64\n",
      " 9   avgjune     115 non-null    float64\n",
      " 10  sub         115 non-null    float64\n",
      " 11  flood       115 non-null    int64  \n",
      "dtypes: float64(7), int64(5)\n",
      "memory usage: 10.9 KB\n",
      "None\n"
     ]
    }
   ],
   "source": [
    "print(dataset.info())"
   ]
  },
  {
   "cell_type": "code",
   "execution_count": 7,
   "metadata": {},
   "outputs": [
    {
     "data": {
      "text/plain": [
       "Index(['Unnamed: 0', 'Temp', 'Humidity', 'Cloud', 'ANNUAL', 'Jan-Feb',\n",
       "       'Mar-May', 'Jun-Sep', 'Oct-Dec', 'avgjune', 'sub', 'flood'],\n",
       "      dtype='object')"
      ]
     },
     "execution_count": 7,
     "metadata": {},
     "output_type": "execute_result"
    }
   ],
   "source": [
    "dataset.columns"
   ]
  },
  {
   "cell_type": "code",
   "execution_count": 8,
   "metadata": {},
   "outputs": [
    {
     "data": {
      "text/html": [
       "<div>\n",
       "<style scoped>\n",
       "    .dataframe tbody tr th:only-of-type {\n",
       "        vertical-align: middle;\n",
       "    }\n",
       "\n",
       "    .dataframe tbody tr th {\n",
       "        vertical-align: top;\n",
       "    }\n",
       "\n",
       "    .dataframe thead th {\n",
       "        text-align: right;\n",
       "    }\n",
       "</style>\n",
       "<table border=\"1\" class=\"dataframe\">\n",
       "  <thead>\n",
       "    <tr style=\"text-align: right;\">\n",
       "      <th></th>\n",
       "      <th>Unnamed: 0</th>\n",
       "      <th>Temp</th>\n",
       "      <th>Humidity</th>\n",
       "      <th>Cloud</th>\n",
       "      <th>ANNUAL</th>\n",
       "      <th>Jan-Feb</th>\n",
       "      <th>Mar-May</th>\n",
       "      <th>Jun-Sep</th>\n",
       "      <th>Oct-Dec</th>\n",
       "      <th>avgjune</th>\n",
       "      <th>sub</th>\n",
       "      <th>flood</th>\n",
       "    </tr>\n",
       "  </thead>\n",
       "  <tbody>\n",
       "    <tr>\n",
       "      <th>count</th>\n",
       "      <td>115.000000</td>\n",
       "      <td>115.000000</td>\n",
       "      <td>115.000000</td>\n",
       "      <td>115.000000</td>\n",
       "      <td>115.000000</td>\n",
       "      <td>115.000000</td>\n",
       "      <td>115.000000</td>\n",
       "      <td>115.000000</td>\n",
       "      <td>115.000000</td>\n",
       "      <td>115.000000</td>\n",
       "      <td>115.000000</td>\n",
       "      <td>115.000000</td>\n",
       "    </tr>\n",
       "    <tr>\n",
       "      <th>mean</th>\n",
       "      <td>57.000000</td>\n",
       "      <td>29.600000</td>\n",
       "      <td>73.852174</td>\n",
       "      <td>36.286957</td>\n",
       "      <td>2925.487826</td>\n",
       "      <td>27.739130</td>\n",
       "      <td>377.253913</td>\n",
       "      <td>2022.840870</td>\n",
       "      <td>497.636522</td>\n",
       "      <td>218.100870</td>\n",
       "      <td>439.801739</td>\n",
       "      <td>0.139130</td>\n",
       "    </tr>\n",
       "    <tr>\n",
       "      <th>std</th>\n",
       "      <td>33.341666</td>\n",
       "      <td>1.122341</td>\n",
       "      <td>2.947623</td>\n",
       "      <td>4.330158</td>\n",
       "      <td>422.112193</td>\n",
       "      <td>22.361032</td>\n",
       "      <td>151.091850</td>\n",
       "      <td>386.254397</td>\n",
       "      <td>129.860643</td>\n",
       "      <td>62.547597</td>\n",
       "      <td>210.438813</td>\n",
       "      <td>0.347597</td>\n",
       "    </tr>\n",
       "    <tr>\n",
       "      <th>min</th>\n",
       "      <td>0.000000</td>\n",
       "      <td>28.000000</td>\n",
       "      <td>70.000000</td>\n",
       "      <td>30.000000</td>\n",
       "      <td>2068.800000</td>\n",
       "      <td>0.300000</td>\n",
       "      <td>89.900000</td>\n",
       "      <td>1104.300000</td>\n",
       "      <td>166.600000</td>\n",
       "      <td>65.600000</td>\n",
       "      <td>34.200000</td>\n",
       "      <td>0.000000</td>\n",
       "    </tr>\n",
       "    <tr>\n",
       "      <th>25%</th>\n",
       "      <td>28.500000</td>\n",
       "      <td>29.000000</td>\n",
       "      <td>71.000000</td>\n",
       "      <td>32.500000</td>\n",
       "      <td>2627.900000</td>\n",
       "      <td>10.250000</td>\n",
       "      <td>276.750000</td>\n",
       "      <td>1768.850000</td>\n",
       "      <td>407.450000</td>\n",
       "      <td>179.666667</td>\n",
       "      <td>295.000000</td>\n",
       "      <td>0.000000</td>\n",
       "    </tr>\n",
       "    <tr>\n",
       "      <th>50%</th>\n",
       "      <td>57.000000</td>\n",
       "      <td>30.000000</td>\n",
       "      <td>74.000000</td>\n",
       "      <td>36.000000</td>\n",
       "      <td>2937.500000</td>\n",
       "      <td>20.500000</td>\n",
       "      <td>342.000000</td>\n",
       "      <td>1948.700000</td>\n",
       "      <td>501.500000</td>\n",
       "      <td>211.033333</td>\n",
       "      <td>430.600000</td>\n",
       "      <td>0.000000</td>\n",
       "    </tr>\n",
       "    <tr>\n",
       "      <th>75%</th>\n",
       "      <td>85.500000</td>\n",
       "      <td>31.000000</td>\n",
       "      <td>76.000000</td>\n",
       "      <td>40.000000</td>\n",
       "      <td>3164.100000</td>\n",
       "      <td>41.600000</td>\n",
       "      <td>442.300000</td>\n",
       "      <td>2242.900000</td>\n",
       "      <td>584.550000</td>\n",
       "      <td>263.833333</td>\n",
       "      <td>577.650000</td>\n",
       "      <td>0.000000</td>\n",
       "    </tr>\n",
       "    <tr>\n",
       "      <th>max</th>\n",
       "      <td>114.000000</td>\n",
       "      <td>31.000000</td>\n",
       "      <td>79.000000</td>\n",
       "      <td>44.000000</td>\n",
       "      <td>4257.800000</td>\n",
       "      <td>98.100000</td>\n",
       "      <td>915.200000</td>\n",
       "      <td>3451.300000</td>\n",
       "      <td>823.300000</td>\n",
       "      <td>366.066667</td>\n",
       "      <td>982.700000</td>\n",
       "      <td>1.000000</td>\n",
       "    </tr>\n",
       "  </tbody>\n",
       "</table>\n",
       "</div>"
      ],
      "text/plain": [
       "       Unnamed: 0        Temp    Humidity       Cloud       ANNUAL  \\\n",
       "count  115.000000  115.000000  115.000000  115.000000   115.000000   \n",
       "mean    57.000000   29.600000   73.852174   36.286957  2925.487826   \n",
       "std     33.341666    1.122341    2.947623    4.330158   422.112193   \n",
       "min      0.000000   28.000000   70.000000   30.000000  2068.800000   \n",
       "25%     28.500000   29.000000   71.000000   32.500000  2627.900000   \n",
       "50%     57.000000   30.000000   74.000000   36.000000  2937.500000   \n",
       "75%     85.500000   31.000000   76.000000   40.000000  3164.100000   \n",
       "max    114.000000   31.000000   79.000000   44.000000  4257.800000   \n",
       "\n",
       "          Jan-Feb     Mar-May      Jun-Sep     Oct-Dec     avgjune  \\\n",
       "count  115.000000  115.000000   115.000000  115.000000  115.000000   \n",
       "mean    27.739130  377.253913  2022.840870  497.636522  218.100870   \n",
       "std     22.361032  151.091850   386.254397  129.860643   62.547597   \n",
       "min      0.300000   89.900000  1104.300000  166.600000   65.600000   \n",
       "25%     10.250000  276.750000  1768.850000  407.450000  179.666667   \n",
       "50%     20.500000  342.000000  1948.700000  501.500000  211.033333   \n",
       "75%     41.600000  442.300000  2242.900000  584.550000  263.833333   \n",
       "max     98.100000  915.200000  3451.300000  823.300000  366.066667   \n",
       "\n",
       "              sub       flood  \n",
       "count  115.000000  115.000000  \n",
       "mean   439.801739    0.139130  \n",
       "std    210.438813    0.347597  \n",
       "min     34.200000    0.000000  \n",
       "25%    295.000000    0.000000  \n",
       "50%    430.600000    0.000000  \n",
       "75%    577.650000    0.000000  \n",
       "max    982.700000    1.000000  "
      ]
     },
     "execution_count": 8,
     "metadata": {},
     "output_type": "execute_result"
    }
   ],
   "source": [
    "dataset.describe()"
   ]
  },
  {
   "cell_type": "code",
   "execution_count": 9,
   "metadata": {},
   "outputs": [
    {
     "data": {
      "text/plain": [
       "Unnamed: 0    False\n",
       "Temp          False\n",
       "Humidity      False\n",
       "Cloud         False\n",
       "ANNUAL        False\n",
       "Jan-Feb       False\n",
       "Mar-May       False\n",
       "Jun-Sep       False\n",
       "Oct-Dec       False\n",
       "avgjune       False\n",
       "sub           False\n",
       "flood         False\n",
       "dtype: bool"
      ]
     },
     "execution_count": 9,
     "metadata": {},
     "output_type": "execute_result"
    }
   ],
   "source": [
    "dataset.isnull().any()"
   ]
  },
  {
   "cell_type": "code",
   "execution_count": 10,
   "metadata": {},
   "outputs": [
    {
     "data": {
      "text/html": [
       "<div>\n",
       "<style scoped>\n",
       "    .dataframe tbody tr th:only-of-type {\n",
       "        vertical-align: middle;\n",
       "    }\n",
       "\n",
       "    .dataframe tbody tr th {\n",
       "        vertical-align: top;\n",
       "    }\n",
       "\n",
       "    .dataframe thead th {\n",
       "        text-align: right;\n",
       "    }\n",
       "</style>\n",
       "<table border=\"1\" class=\"dataframe\">\n",
       "  <thead>\n",
       "    <tr style=\"text-align: right;\">\n",
       "      <th></th>\n",
       "      <th>Unnamed: 0</th>\n",
       "      <th>Temp</th>\n",
       "      <th>Humidity</th>\n",
       "      <th>Cloud</th>\n",
       "      <th>ANNUAL</th>\n",
       "      <th>Jan-Feb</th>\n",
       "      <th>Mar-May</th>\n",
       "      <th>Jun-Sep</th>\n",
       "      <th>Oct-Dec</th>\n",
       "      <th>avgjune</th>\n",
       "      <th>sub</th>\n",
       "      <th>flood</th>\n",
       "    </tr>\n",
       "  </thead>\n",
       "  <tbody>\n",
       "    <tr>\n",
       "      <th>Unnamed: 0</th>\n",
       "      <td>1.000000</td>\n",
       "      <td>0.120254</td>\n",
       "      <td>-0.001607</td>\n",
       "      <td>-0.075522</td>\n",
       "      <td>-0.224470</td>\n",
       "      <td>-0.171198</td>\n",
       "      <td>-0.017758</td>\n",
       "      <td>-0.188442</td>\n",
       "      <td>-0.118976</td>\n",
       "      <td>-0.157374</td>\n",
       "      <td>-0.140080</td>\n",
       "      <td>-0.062065</td>\n",
       "    </tr>\n",
       "    <tr>\n",
       "      <th>Temp</th>\n",
       "      <td>0.120254</td>\n",
       "      <td>1.000000</td>\n",
       "      <td>-0.012727</td>\n",
       "      <td>-0.046568</td>\n",
       "      <td>-0.063014</td>\n",
       "      <td>-0.080076</td>\n",
       "      <td>0.099519</td>\n",
       "      <td>-0.081965</td>\n",
       "      <td>-0.063034</td>\n",
       "      <td>-0.019751</td>\n",
       "      <td>-0.088331</td>\n",
       "      <td>-0.080946</td>\n",
       "    </tr>\n",
       "    <tr>\n",
       "      <th>Humidity</th>\n",
       "      <td>-0.001607</td>\n",
       "      <td>-0.012727</td>\n",
       "      <td>1.000000</td>\n",
       "      <td>0.085824</td>\n",
       "      <td>-0.054767</td>\n",
       "      <td>-0.185965</td>\n",
       "      <td>-0.101232</td>\n",
       "      <td>-0.029583</td>\n",
       "      <td>0.059739</td>\n",
       "      <td>0.017656</td>\n",
       "      <td>0.029981</td>\n",
       "      <td>0.020250</td>\n",
       "    </tr>\n",
       "    <tr>\n",
       "      <th>Cloud</th>\n",
       "      <td>-0.075522</td>\n",
       "      <td>-0.046568</td>\n",
       "      <td>0.085824</td>\n",
       "      <td>1.000000</td>\n",
       "      <td>0.051166</td>\n",
       "      <td>0.004376</td>\n",
       "      <td>0.096645</td>\n",
       "      <td>0.010833</td>\n",
       "      <td>0.020966</td>\n",
       "      <td>-0.089843</td>\n",
       "      <td>-0.106455</td>\n",
       "      <td>0.089801</td>\n",
       "    </tr>\n",
       "    <tr>\n",
       "      <th>ANNUAL</th>\n",
       "      <td>-0.224470</td>\n",
       "      <td>-0.063014</td>\n",
       "      <td>-0.054767</td>\n",
       "      <td>0.051166</td>\n",
       "      <td>1.000000</td>\n",
       "      <td>0.033639</td>\n",
       "      <td>0.387790</td>\n",
       "      <td>0.861190</td>\n",
       "      <td>0.232069</td>\n",
       "      <td>0.474644</td>\n",
       "      <td>0.220009</td>\n",
       "      <td>0.626874</td>\n",
       "    </tr>\n",
       "    <tr>\n",
       "      <th>Jan-Feb</th>\n",
       "      <td>-0.171198</td>\n",
       "      <td>-0.080076</td>\n",
       "      <td>-0.185965</td>\n",
       "      <td>0.004376</td>\n",
       "      <td>0.033639</td>\n",
       "      <td>1.000000</td>\n",
       "      <td>0.066479</td>\n",
       "      <td>0.001178</td>\n",
       "      <td>-0.143670</td>\n",
       "      <td>0.164691</td>\n",
       "      <td>0.201266</td>\n",
       "      <td>-0.084446</td>\n",
       "    </tr>\n",
       "    <tr>\n",
       "      <th>Mar-May</th>\n",
       "      <td>-0.017758</td>\n",
       "      <td>0.099519</td>\n",
       "      <td>-0.101232</td>\n",
       "      <td>0.096645</td>\n",
       "      <td>0.387790</td>\n",
       "      <td>0.066479</td>\n",
       "      <td>1.000000</td>\n",
       "      <td>-0.029007</td>\n",
       "      <td>0.171805</td>\n",
       "      <td>0.019183</td>\n",
       "      <td>-0.475750</td>\n",
       "      <td>-0.017598</td>\n",
       "    </tr>\n",
       "    <tr>\n",
       "      <th>Jun-Sep</th>\n",
       "      <td>-0.188442</td>\n",
       "      <td>-0.081965</td>\n",
       "      <td>-0.029583</td>\n",
       "      <td>0.010833</td>\n",
       "      <td>0.861190</td>\n",
       "      <td>0.001178</td>\n",
       "      <td>-0.029007</td>\n",
       "      <td>1.000000</td>\n",
       "      <td>-0.141467</td>\n",
       "      <td>0.511113</td>\n",
       "      <td>0.431997</td>\n",
       "      <td>0.705202</td>\n",
       "    </tr>\n",
       "    <tr>\n",
       "      <th>Oct-Dec</th>\n",
       "      <td>-0.118976</td>\n",
       "      <td>-0.063034</td>\n",
       "      <td>0.059739</td>\n",
       "      <td>0.020966</td>\n",
       "      <td>0.232069</td>\n",
       "      <td>-0.143670</td>\n",
       "      <td>0.171805</td>\n",
       "      <td>-0.141467</td>\n",
       "      <td>1.000000</td>\n",
       "      <td>-0.028055</td>\n",
       "      <td>-0.050862</td>\n",
       "      <td>-0.024852</td>\n",
       "    </tr>\n",
       "    <tr>\n",
       "      <th>avgjune</th>\n",
       "      <td>-0.157374</td>\n",
       "      <td>-0.019751</td>\n",
       "      <td>0.017656</td>\n",
       "      <td>-0.089843</td>\n",
       "      <td>0.474644</td>\n",
       "      <td>0.164691</td>\n",
       "      <td>0.019183</td>\n",
       "      <td>0.511113</td>\n",
       "      <td>-0.028055</td>\n",
       "      <td>1.000000</td>\n",
       "      <td>0.780445</td>\n",
       "      <td>0.379778</td>\n",
       "    </tr>\n",
       "    <tr>\n",
       "      <th>sub</th>\n",
       "      <td>-0.140080</td>\n",
       "      <td>-0.088331</td>\n",
       "      <td>0.029981</td>\n",
       "      <td>-0.106455</td>\n",
       "      <td>0.220009</td>\n",
       "      <td>0.201266</td>\n",
       "      <td>-0.475750</td>\n",
       "      <td>0.431997</td>\n",
       "      <td>-0.050862</td>\n",
       "      <td>0.780445</td>\n",
       "      <td>1.000000</td>\n",
       "      <td>0.349828</td>\n",
       "    </tr>\n",
       "    <tr>\n",
       "      <th>flood</th>\n",
       "      <td>-0.062065</td>\n",
       "      <td>-0.080946</td>\n",
       "      <td>0.020250</td>\n",
       "      <td>0.089801</td>\n",
       "      <td>0.626874</td>\n",
       "      <td>-0.084446</td>\n",
       "      <td>-0.017598</td>\n",
       "      <td>0.705202</td>\n",
       "      <td>-0.024852</td>\n",
       "      <td>0.379778</td>\n",
       "      <td>0.349828</td>\n",
       "      <td>1.000000</td>\n",
       "    </tr>\n",
       "  </tbody>\n",
       "</table>\n",
       "</div>"
      ],
      "text/plain": [
       "            Unnamed: 0      Temp  Humidity     Cloud    ANNUAL   Jan-Feb  \\\n",
       "Unnamed: 0    1.000000  0.120254 -0.001607 -0.075522 -0.224470 -0.171198   \n",
       "Temp          0.120254  1.000000 -0.012727 -0.046568 -0.063014 -0.080076   \n",
       "Humidity     -0.001607 -0.012727  1.000000  0.085824 -0.054767 -0.185965   \n",
       "Cloud        -0.075522 -0.046568  0.085824  1.000000  0.051166  0.004376   \n",
       "ANNUAL       -0.224470 -0.063014 -0.054767  0.051166  1.000000  0.033639   \n",
       "Jan-Feb      -0.171198 -0.080076 -0.185965  0.004376  0.033639  1.000000   \n",
       "Mar-May      -0.017758  0.099519 -0.101232  0.096645  0.387790  0.066479   \n",
       "Jun-Sep      -0.188442 -0.081965 -0.029583  0.010833  0.861190  0.001178   \n",
       "Oct-Dec      -0.118976 -0.063034  0.059739  0.020966  0.232069 -0.143670   \n",
       "avgjune      -0.157374 -0.019751  0.017656 -0.089843  0.474644  0.164691   \n",
       "sub          -0.140080 -0.088331  0.029981 -0.106455  0.220009  0.201266   \n",
       "flood        -0.062065 -0.080946  0.020250  0.089801  0.626874 -0.084446   \n",
       "\n",
       "             Mar-May   Jun-Sep   Oct-Dec   avgjune       sub     flood  \n",
       "Unnamed: 0 -0.017758 -0.188442 -0.118976 -0.157374 -0.140080 -0.062065  \n",
       "Temp        0.099519 -0.081965 -0.063034 -0.019751 -0.088331 -0.080946  \n",
       "Humidity   -0.101232 -0.029583  0.059739  0.017656  0.029981  0.020250  \n",
       "Cloud       0.096645  0.010833  0.020966 -0.089843 -0.106455  0.089801  \n",
       "ANNUAL      0.387790  0.861190  0.232069  0.474644  0.220009  0.626874  \n",
       "Jan-Feb     0.066479  0.001178 -0.143670  0.164691  0.201266 -0.084446  \n",
       "Mar-May     1.000000 -0.029007  0.171805  0.019183 -0.475750 -0.017598  \n",
       "Jun-Sep    -0.029007  1.000000 -0.141467  0.511113  0.431997  0.705202  \n",
       "Oct-Dec     0.171805 -0.141467  1.000000 -0.028055 -0.050862 -0.024852  \n",
       "avgjune     0.019183  0.511113 -0.028055  1.000000  0.780445  0.379778  \n",
       "sub        -0.475750  0.431997 -0.050862  0.780445  1.000000  0.349828  \n",
       "flood      -0.017598  0.705202 -0.024852  0.379778  0.349828  1.000000  "
      ]
     },
     "execution_count": 10,
     "metadata": {},
     "output_type": "execute_result"
    }
   ],
   "source": [
    "dataset.corr()"
   ]
  },
  {
   "cell_type": "code",
   "execution_count": 11,
   "metadata": {},
   "outputs": [],
   "source": [
    "dataset.drop(['Unnamed: 0'],axis=1,inplace=True)"
   ]
  },
  {
   "cell_type": "code",
   "execution_count": 13,
   "metadata": {},
   "outputs": [],
   "source": [
    "dataset.drop([\"Jun-Sep\",\"Oct-Dec\"],axis=1,inplace=True)"
   ]
  },
  {
   "cell_type": "code",
   "execution_count": 14,
   "metadata": {},
   "outputs": [
    {
     "data": {
      "text/html": [
       "<div>\n",
       "<style scoped>\n",
       "    .dataframe tbody tr th:only-of-type {\n",
       "        vertical-align: middle;\n",
       "    }\n",
       "\n",
       "    .dataframe tbody tr th {\n",
       "        vertical-align: top;\n",
       "    }\n",
       "\n",
       "    .dataframe thead th {\n",
       "        text-align: right;\n",
       "    }\n",
       "</style>\n",
       "<table border=\"1\" class=\"dataframe\">\n",
       "  <thead>\n",
       "    <tr style=\"text-align: right;\">\n",
       "      <th></th>\n",
       "      <th>Temp</th>\n",
       "      <th>Humidity</th>\n",
       "      <th>Cloud</th>\n",
       "      <th>ANNUAL</th>\n",
       "      <th>Jan-Feb</th>\n",
       "      <th>Mar-May</th>\n",
       "      <th>avgjune</th>\n",
       "      <th>sub</th>\n",
       "      <th>flood</th>\n",
       "    </tr>\n",
       "  </thead>\n",
       "  <tbody>\n",
       "    <tr>\n",
       "      <th>0</th>\n",
       "      <td>29</td>\n",
       "      <td>70</td>\n",
       "      <td>30</td>\n",
       "      <td>3248.6</td>\n",
       "      <td>73.4</td>\n",
       "      <td>386.2</td>\n",
       "      <td>274.866667</td>\n",
       "      <td>649.9</td>\n",
       "      <td>0</td>\n",
       "    </tr>\n",
       "    <tr>\n",
       "      <th>1</th>\n",
       "      <td>28</td>\n",
       "      <td>75</td>\n",
       "      <td>40</td>\n",
       "      <td>3326.6</td>\n",
       "      <td>9.3</td>\n",
       "      <td>275.7</td>\n",
       "      <td>130.300000</td>\n",
       "      <td>256.4</td>\n",
       "      <td>1</td>\n",
       "    </tr>\n",
       "    <tr>\n",
       "      <th>2</th>\n",
       "      <td>28</td>\n",
       "      <td>75</td>\n",
       "      <td>42</td>\n",
       "      <td>3271.2</td>\n",
       "      <td>21.7</td>\n",
       "      <td>336.3</td>\n",
       "      <td>186.200000</td>\n",
       "      <td>308.9</td>\n",
       "      <td>0</td>\n",
       "    </tr>\n",
       "    <tr>\n",
       "      <th>3</th>\n",
       "      <td>29</td>\n",
       "      <td>71</td>\n",
       "      <td>44</td>\n",
       "      <td>3129.7</td>\n",
       "      <td>26.7</td>\n",
       "      <td>339.4</td>\n",
       "      <td>366.066667</td>\n",
       "      <td>862.5</td>\n",
       "      <td>0</td>\n",
       "    </tr>\n",
       "    <tr>\n",
       "      <th>4</th>\n",
       "      <td>31</td>\n",
       "      <td>74</td>\n",
       "      <td>40</td>\n",
       "      <td>2741.6</td>\n",
       "      <td>23.4</td>\n",
       "      <td>378.5</td>\n",
       "      <td>283.400000</td>\n",
       "      <td>586.9</td>\n",
       "      <td>0</td>\n",
       "    </tr>\n",
       "  </tbody>\n",
       "</table>\n",
       "</div>"
      ],
      "text/plain": [
       "   Temp  Humidity  Cloud  ANNUAL  Jan-Feb  Mar-May     avgjune    sub  flood\n",
       "0    29        70     30  3248.6     73.4    386.2  274.866667  649.9      0\n",
       "1    28        75     40  3326.6      9.3    275.7  130.300000  256.4      1\n",
       "2    28        75     42  3271.2     21.7    336.3  186.200000  308.9      0\n",
       "3    29        71     44  3129.7     26.7    339.4  366.066667  862.5      0\n",
       "4    31        74     40  2741.6     23.4    378.5  283.400000  586.9      0"
      ]
     },
     "execution_count": 14,
     "metadata": {},
     "output_type": "execute_result"
    }
   ],
   "source": [
    "dataset.head()"
   ]
  },
  {
   "cell_type": "code",
   "execution_count": 15,
   "metadata": {},
   "outputs": [
    {
     "data": {
      "text/plain": [
       "0    99\n",
       "1    16\n",
       "Name: flood, dtype: int64"
      ]
     },
     "execution_count": 15,
     "metadata": {},
     "output_type": "execute_result"
    }
   ],
   "source": [
    "dataset['flood'].value_counts()"
   ]
  },
  {
   "cell_type": "code",
   "execution_count": 16,
   "metadata": {},
   "outputs": [],
   "source": [
    "x=dataset.iloc[:,0:8].values"
   ]
  },
  {
   "cell_type": "code",
   "execution_count": 17,
   "metadata": {},
   "outputs": [],
   "source": [
    "y=dataset.iloc[:,8:].values"
   ]
  },
  {
   "cell_type": "code",
   "execution_count": 18,
   "metadata": {},
   "outputs": [
    {
     "data": {
      "text/plain": [
       "(115, 8)"
      ]
     },
     "execution_count": 18,
     "metadata": {},
     "output_type": "execute_result"
    }
   ],
   "source": [
    "x.shape"
   ]
  },
  {
   "cell_type": "code",
   "execution_count": 19,
   "metadata": {},
   "outputs": [
    {
     "data": {
      "text/plain": [
       "(115, 1)"
      ]
     },
     "execution_count": 19,
     "metadata": {},
     "output_type": "execute_result"
    }
   ],
   "source": [
    "y.shape"
   ]
  },
  {
   "cell_type": "code",
   "execution_count": 20,
   "metadata": {},
   "outputs": [],
   "source": [
    "from sklearn.model_selection import train_test_split\n",
    "x_train,x_test,y_train,y_test = train_test_split(x,y,test_size=0.25,random_state=10)"
   ]
  },
  {
   "cell_type": "code",
   "execution_count": 21,
   "metadata": {},
   "outputs": [
    {
     "name": "stdout",
     "output_type": "stream",
     "text": [
      "(86, 8)\n",
      "(29, 8)\n",
      "(86, 1)\n",
      "(29, 1)\n"
     ]
    }
   ],
   "source": [
    "print(x_train.shape)\n",
    "print(x_test.shape)\n",
    "print(y_train.shape)\n",
    "print(y_test.shape)"
   ]
  },
  {
   "cell_type": "code",
   "execution_count": 22,
   "metadata": {},
   "outputs": [],
   "source": [
    "from sklearn.preprocessing import StandardScaler\n",
    "sc=StandardScaler()\n",
    "x_train=sc.fit_transform(x_train)\n",
    "x_test=sc.fit_transform(x_test)"
   ]
  },
  {
   "cell_type": "code",
   "execution_count": 23,
   "metadata": {},
   "outputs": [
    {
     "data": {
      "text/plain": [
       "['transform.save']"
      ]
     },
     "execution_count": 23,
     "metadata": {},
     "output_type": "execute_result"
    }
   ],
   "source": [
    "from joblib import dump\n",
    "dump(sc,\"transform.save\")"
   ]
  },
  {
   "cell_type": "code",
   "execution_count": 48,
   "metadata": {},
   "outputs": [],
   "source": [
    "import xgboost as xgb\n",
    "xg_cla = xgb.XGBClassifier(objective ='reg:linear',learning_rate = 0.1,\n",
    "                max_depth = 5, n_estimators = 10)"
   ]
  },
  {
   "cell_type": "code",
   "execution_count": 49,
   "metadata": {},
   "outputs": [
    {
     "name": "stdout",
     "output_type": "stream",
     "text": [
      "[13:05:42] WARNING: C:/Users/Administrator/workspace/xgboost-win64_release_1.3.0/src/objective/regression_obj.cu:170: reg:linear is now deprecated in favor of reg:squarederror.\n"
     ]
    },
    {
     "name": "stderr",
     "output_type": "stream",
     "text": [
      "C:\\Users\\smartbridge\\anaconda3\\lib\\site-packages\\xgboost\\sklearn.py:888: UserWarning: The use of label encoder in XGBClassifier is deprecated and will be removed in a future release. To remove this warning, do the following: 1) Pass option use_label_encoder=False when constructing XGBClassifier object; and 2) Encode your labels (y) as integers starting with 0, i.e. 0, 1, 2, ..., [num_class - 1].\n",
      "  warnings.warn(label_encoder_deprecation_msg, UserWarning)\n",
      "C:\\Users\\smartbridge\\anaconda3\\lib\\site-packages\\sklearn\\preprocessing\\_label.py:235: DataConversionWarning: A column-vector y was passed when a 1d array was expected. Please change the shape of y to (n_samples, ), for example using ravel().\n",
      "  y = column_or_1d(y, warn=True)\n",
      "C:\\Users\\smartbridge\\anaconda3\\lib\\site-packages\\sklearn\\preprocessing\\_label.py:268: DataConversionWarning: A column-vector y was passed when a 1d array was expected. Please change the shape of y to (n_samples, ), for example using ravel().\n",
      "  y = column_or_1d(y, warn=True)\n"
     ]
    },
    {
     "data": {
      "text/plain": [
       "XGBClassifier(base_score=0.5, booster='gbtree', colsample_bylevel=1,\n",
       "              colsample_bynode=1, colsample_bytree=1, gamma=0, gpu_id=-1,\n",
       "              importance_type='gain', interaction_constraints='',\n",
       "              learning_rate=0.1, max_delta_step=0, max_depth=5,\n",
       "              min_child_weight=1, missing=nan, monotone_constraints='()',\n",
       "              n_estimators=10, n_jobs=4, num_parallel_tree=1,\n",
       "              objective='reg:linear', random_state=0, reg_alpha=0, reg_lambda=1,\n",
       "              scale_pos_weight=1, subsample=1, tree_method='exact',\n",
       "              use_label_encoder=True, validate_parameters=1, verbosity=None)"
      ]
     },
     "execution_count": 49,
     "metadata": {},
     "output_type": "execute_result"
    }
   ],
   "source": [
    "xg_cla.fit(x_train,y_train)"
   ]
  },
  {
   "cell_type": "code",
   "execution_count": 50,
   "metadata": {},
   "outputs": [],
   "source": [
    "y_pred_xgb = xg_cla.predict(x_test)"
   ]
  },
  {
   "cell_type": "code",
   "execution_count": 51,
   "metadata": {},
   "outputs": [
    {
     "data": {
      "text/plain": [
       "(29,)"
      ]
     },
     "execution_count": 51,
     "metadata": {},
     "output_type": "execute_result"
    }
   ],
   "source": [
    "y_pred_xgb.shape"
   ]
  },
  {
   "cell_type": "code",
   "execution_count": 52,
   "metadata": {},
   "outputs": [
    {
     "name": "stdout",
     "output_type": "stream",
     "text": [
      "RMSE: 0.262613\n"
     ]
    }
   ],
   "source": [
    "from sklearn.metrics import mean_squared_error\n",
    "rmse = np.sqrt(mean_squared_error(y_test, y_pred_xgb))\n",
    "print(\"RMSE: %f\" % (rmse))"
   ]
  },
  {
   "cell_type": "code",
   "execution_count": 53,
   "metadata": {},
   "outputs": [
    {
     "data": {
      "text/plain": [
       "array([0], dtype=int64)"
      ]
     },
     "execution_count": 53,
     "metadata": {},
     "output_type": "execute_result"
    }
   ],
   "source": [
    "rand_pred = xg_cla.predict(sc.transform([[29,70,30,3248.6,73.4,386.2,274.866667,649.9]]))\n",
    "rand_pred"
   ]
  },
  {
   "cell_type": "code",
   "execution_count": 54,
   "metadata": {},
   "outputs": [
    {
     "data": {
      "text/plain": [
       "array([1], dtype=int64)"
      ]
     },
     "execution_count": 54,
     "metadata": {},
     "output_type": "execute_result"
    }
   ],
   "source": [
    "rand_pred1 = xg_cla.predict(sc.transform([[28,75,40,3326.6,9.3,275.7,130.300000,256.4]]))\n",
    "rand_pred1"
   ]
  },
  {
   "cell_type": "code",
   "execution_count": 55,
   "metadata": {},
   "outputs": [],
   "source": [
    "data_dmatrix = xgb.DMatrix(data=x,label=y)"
   ]
  },
  {
   "cell_type": "code",
   "execution_count": 56,
   "metadata": {},
   "outputs": [
    {
     "name": "stdout",
     "output_type": "stream",
     "text": [
      "[13:05:54] WARNING: C:/Users/Administrator/workspace/xgboost-win64_release_1.3.0/src/objective/regression_obj.cu:170: reg:linear is now deprecated in favor of reg:squarederror.\n",
      "[13:05:54] WARNING: C:/Users/Administrator/workspace/xgboost-win64_release_1.3.0/src/objective/regression_obj.cu:170: reg:linear is now deprecated in favor of reg:squarederror.\n",
      "[13:05:54] WARNING: C:/Users/Administrator/workspace/xgboost-win64_release_1.3.0/src/objective/regression_obj.cu:170: reg:linear is now deprecated in favor of reg:squarederror.\n"
     ]
    }
   ],
   "source": [
    "params = {\"objective\":\"reg:linear\",'colsample_bytree': 0.3,'learning_rate': 0.1,\n",
    "                'max_depth': 5, 'alpha': 10}\n",
    "\n",
    "cv_results = xgb.cv(dtrain=data_dmatrix, params=params, nfold=3,\n",
    "                    num_boost_round=50,early_stopping_rounds=10,metrics=\"rmse\", as_pandas=True, seed=123)"
   ]
  },
  {
   "cell_type": "code",
   "execution_count": 57,
   "metadata": {},
   "outputs": [
    {
     "data": {
      "text/html": [
       "<div>\n",
       "<style scoped>\n",
       "    .dataframe tbody tr th:only-of-type {\n",
       "        vertical-align: middle;\n",
       "    }\n",
       "\n",
       "    .dataframe tbody tr th {\n",
       "        vertical-align: top;\n",
       "    }\n",
       "\n",
       "    .dataframe thead th {\n",
       "        text-align: right;\n",
       "    }\n",
       "</style>\n",
       "<table border=\"1\" class=\"dataframe\">\n",
       "  <thead>\n",
       "    <tr style=\"text-align: right;\">\n",
       "      <th></th>\n",
       "      <th>train-rmse-mean</th>\n",
       "      <th>train-rmse-std</th>\n",
       "      <th>test-rmse-mean</th>\n",
       "      <th>test-rmse-std</th>\n",
       "    </tr>\n",
       "  </thead>\n",
       "  <tbody>\n",
       "    <tr>\n",
       "      <th>0</th>\n",
       "      <td>0.473434</td>\n",
       "      <td>0.003886</td>\n",
       "      <td>0.475978</td>\n",
       "      <td>0.002337</td>\n",
       "    </tr>\n",
       "    <tr>\n",
       "      <th>1</th>\n",
       "      <td>0.451216</td>\n",
       "      <td>0.006105</td>\n",
       "      <td>0.457350</td>\n",
       "      <td>0.007519</td>\n",
       "    </tr>\n",
       "    <tr>\n",
       "      <th>2</th>\n",
       "      <td>0.434404</td>\n",
       "      <td>0.009129</td>\n",
       "      <td>0.442939</td>\n",
       "      <td>0.012473</td>\n",
       "    </tr>\n",
       "    <tr>\n",
       "      <th>3</th>\n",
       "      <td>0.419054</td>\n",
       "      <td>0.012983</td>\n",
       "      <td>0.430967</td>\n",
       "      <td>0.015451</td>\n",
       "    </tr>\n",
       "    <tr>\n",
       "      <th>4</th>\n",
       "      <td>0.408663</td>\n",
       "      <td>0.018120</td>\n",
       "      <td>0.422907</td>\n",
       "      <td>0.017488</td>\n",
       "    </tr>\n",
       "  </tbody>\n",
       "</table>\n",
       "</div>"
      ],
      "text/plain": [
       "   train-rmse-mean  train-rmse-std  test-rmse-mean  test-rmse-std\n",
       "0         0.473434        0.003886        0.475978       0.002337\n",
       "1         0.451216        0.006105        0.457350       0.007519\n",
       "2         0.434404        0.009129        0.442939       0.012473\n",
       "3         0.419054        0.012983        0.430967       0.015451\n",
       "4         0.408663        0.018120        0.422907       0.017488"
      ]
     },
     "execution_count": 57,
     "metadata": {},
     "output_type": "execute_result"
    }
   ],
   "source": [
    "cv_results.head()"
   ]
  },
  {
   "cell_type": "code",
   "execution_count": 58,
   "metadata": {},
   "outputs": [
    {
     "name": "stdout",
     "output_type": "stream",
     "text": [
      "[13:05:59] WARNING: C:/Users/Administrator/workspace/xgboost-win64_release_1.3.0/src/objective/regression_obj.cu:170: reg:linear is now deprecated in favor of reg:squarederror.\n"
     ]
    }
   ],
   "source": [
    "xg_cla_model = xgb.train(params=params, dtrain=data_dmatrix, num_boost_round=10)"
   ]
  },
  {
   "cell_type": "code",
   "execution_count": 59,
   "metadata": {},
   "outputs": [
    {
     "data": {
      "image/png": "[encoded data removed]",
      "text/plain": [
       "<Figure size 432x288 with 1 Axes>"
      ]
     },
     "metadata": {
      "needs_background": "light"
     },
     "output_type": "display_data"
    }
   ],
   "source": [
    "import matplotlib.pyplot as plt\n",
    "\n",
    "xgb.plot_tree(xg_cla_model,num_trees=0)\n",
    "plt.rcParams['figure.figsize'] = [15,15]\n",
    "plt.show()"
   ]
  },
  {
   "cell_type": "code",
   "execution_count": 60,
   "metadata": {},
   "outputs": [
    {
     "data": {
      "text/plain": [
       "DecisionTreeClassifier(ccp_alpha=0.0, class_weight=None, criterion='gini',\n",
       "                       max_depth=None, max_features=None, max_leaf_nodes=None,\n",
       "                       min_impurity_decrease=0.0, min_impurity_split=None,\n",
       "                       min_samples_leaf=1, min_samples_split=2,\n",
       "                       min_weight_fraction_leaf=0.0, presort='deprecated',\n",
       "                       random_state=None, splitter='best')"
      ]
     },
     "execution_count": 60,
     "metadata": {},
     "output_type": "execute_result"
    }
   ],
   "source": [
    "from sklearn.tree import DecisionTreeClassifier\n",
    "dtc = DecisionTreeClassifier()\n",
    "dtc.fit(x_train,y_train)"
   ]
  },
  {
   "cell_type": "code",
   "execution_count": 61,
   "metadata": {},
   "outputs": [
    {
     "data": {
      "text/plain": [
       "array([1, 0, 0, 0, 0, 0, 0, 1, 0, 0, 0, 0, 0, 0, 0, 0, 0, 0, 0, 0, 1, 0,\n",
       "       0, 1, 0, 0, 0, 1, 0], dtype=int64)"
      ]
     },
     "execution_count": 61,
     "metadata": {},
     "output_type": "execute_result"
    }
   ],
   "source": [
    "y_predict = dtc.predict(x_test)\n",
    "y_predict"
   ]
  },
  {
   "cell_type": "code",
   "execution_count": 62,
   "metadata": {},
   "outputs": [],
   "source": [
    "from sklearn.metrics import accuracy_score,confusion_matrix"
   ]
  },
  {
   "cell_type": "code",
   "execution_count": 63,
   "metadata": {},
   "outputs": [
    {
     "data": {
      "text/plain": [
       "0.8620689655172413"
      ]
     },
     "execution_count": 63,
     "metadata": {},
     "output_type": "execute_result"
    }
   ],
   "source": [
    "acc=accuracy_score(y_test,y_predict)\n",
    "acc"
   ]
  },
  {
   "cell_type": "code",
   "execution_count": 64,
   "metadata": {},
   "outputs": [
    {
     "data": {
      "text/plain": [
       "0.9310344827586207"
      ]
     },
     "execution_count": 64,
     "metadata": {},
     "output_type": "execute_result"
    }
   ],
   "source": [
    "acc=accuracy_score(y_test,y_pred_xgb)\n",
    "acc"
   ]
  },
  {
   "cell_type": "code",
   "execution_count": 65,
   "metadata": {},
   "outputs": [
    {
     "data": {
      "text/plain": [
       "array([[23,  3],\n",
       "       [ 1,  2]], dtype=int64)"
      ]
     },
     "execution_count": 65,
     "metadata": {},
     "output_type": "execute_result"
    }
   ],
   "source": [
    "cm1=confusion_matrix(y_test,y_predict)\n",
    "cm1"
   ]
  },
  {
   "cell_type": "code",
   "execution_count": 66,
   "metadata": {},
   "outputs": [
    {
     "data": {
      "text/plain": [
       "array([[24,  2],\n",
       "       [ 0,  3]], dtype=int64)"
      ]
     },
     "execution_count": 66,
     "metadata": {},
     "output_type": "execute_result"
    }
   ],
   "source": [
    "cm2=confusion_matrix(y_test,y_pred_xgb)\n",
    "cm2"
   ]
  },
  {
   "cell_type": "code",
   "execution_count": 67,
   "metadata": {},
   "outputs": [
    {
     "data": {
      "text/plain": [
       "['floods.save']"
      ]
     },
     "execution_count": 67,
     "metadata": {},
     "output_type": "execute_result"
    }
   ],
   "source": [
    "from joblib import dump\n",
    "dump(xg_cla,'floods.save')"
   ]
  },
  {
   "cell_type": "code",
   "execution_count": null,
   "metadata": {},
   "outputs": [],
   "source": []
  }
 ],
 "metadata": {
  "kernelspec": {
   "display_name": "Python 3",
   "language": "python",
   "name": "python3"
  },
  "language_info": {
   "codemirror_mode": {
    "name": "ipython",
    "version": 3
   },
   "file_extension": ".py",
   "mimetype": "text/x-python",
   "name": "python",
   "nbconvert_exporter": "python",
   "pygments_lexer": "ipython3",
   "version": "3.8.5"
  }
 },
 "nbformat": 4,
 "nbformat_minor": 4
}
