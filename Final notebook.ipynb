{
 "cells": [
  {
   "cell_type": "code",
   "execution_count": 1,
   "metadata": {},
   "outputs": [],
   "source": [
    "import pandas as pd\n",
    "import numpy as np\n",
    "import matplotlib as mpl\n",
    "import matplotlib.pyplot as plt\n",
    "from sklearn.metrics import roc_curve, auc, roc_auc_score\n",
    "from sklearn.metrics import confusion_matrix as cm\n",
    "from sklearn.model_selection import train_test_split"
   ]
  },
  {
   "cell_type": "code",
   "execution_count": 2,
   "metadata": {},
   "outputs": [
    {
     "data": {
      "text/html": [
       "<div>\n",
       "<style scoped>\n",
       "    .dataframe tbody tr th:only-of-type {\n",
       "        vertical-align: middle;\n",
       "    }\n",
       "\n",
       "    .dataframe tbody tr th {\n",
       "        vertical-align: top;\n",
       "    }\n",
       "\n",
       "    .dataframe thead th {\n",
       "        text-align: right;\n",
       "    }\n",
       "</style>\n",
       "<table border=\"1\" class=\"dataframe\">\n",
       "  <thead>\n",
       "    <tr style=\"text-align: right;\">\n",
       "      <th></th>\n",
       "      <th>Unnamed: 0</th>\n",
       "      <th>Year</th>\n",
       "      <th>Month</th>\n",
       "      <th>DayofMonth</th>\n",
       "      <th>DayOfWeek</th>\n",
       "      <th>DepTime</th>\n",
       "      <th>CRSDepTime</th>\n",
       "      <th>ArrTime</th>\n",
       "      <th>CRSArrTime</th>\n",
       "      <th>UniqueCarrier</th>\n",
       "      <th>...</th>\n",
       "      <th>LateAircraftDelay</th>\n",
       "      <th>AIRLINE</th>\n",
       "      <th>airport_x</th>\n",
       "      <th>city_x</th>\n",
       "      <th>lat_x</th>\n",
       "      <th>long_x</th>\n",
       "      <th>airport_y</th>\n",
       "      <th>city_y</th>\n",
       "      <th>lat_y</th>\n",
       "      <th>long_y</th>\n",
       "    </tr>\n",
       "  </thead>\n",
       "  <tbody>\n",
       "    <tr>\n",
       "      <td>0</td>\n",
       "      <td>70201</td>\n",
       "      <td>2008</td>\n",
       "      <td>2</td>\n",
       "      <td>3</td>\n",
       "      <td>7</td>\n",
       "      <td>1523.0</td>\n",
       "      <td>1335</td>\n",
       "      <td>NaN</td>\n",
       "      <td>1613</td>\n",
       "      <td>OO</td>\n",
       "      <td>...</td>\n",
       "      <td>NaN</td>\n",
       "      <td>Skywest Airlines Inc.</td>\n",
       "      <td>Los Angeles International</td>\n",
       "      <td>Los Angeles</td>\n",
       "      <td>33.942536</td>\n",
       "      <td>-118.408074</td>\n",
       "      <td>McCarran International</td>\n",
       "      <td>Las Vegas</td>\n",
       "      <td>36.080361</td>\n",
       "      <td>-115.152333</td>\n",
       "    </tr>\n",
       "    <tr>\n",
       "      <td>1</td>\n",
       "      <td>70202</td>\n",
       "      <td>2008</td>\n",
       "      <td>2</td>\n",
       "      <td>22</td>\n",
       "      <td>5</td>\n",
       "      <td>2116.0</td>\n",
       "      <td>2102</td>\n",
       "      <td>NaN</td>\n",
       "      <td>2349</td>\n",
       "      <td>OO</td>\n",
       "      <td>...</td>\n",
       "      <td>NaN</td>\n",
       "      <td>Skywest Airlines Inc.</td>\n",
       "      <td>Los Angeles International</td>\n",
       "      <td>Los Angeles</td>\n",
       "      <td>33.942536</td>\n",
       "      <td>-118.408074</td>\n",
       "      <td>McCarran International</td>\n",
       "      <td>Las Vegas</td>\n",
       "      <td>36.080361</td>\n",
       "      <td>-115.152333</td>\n",
       "    </tr>\n",
       "  </tbody>\n",
       "</table>\n",
       "<p>2 rows × 39 columns</p>\n",
       "</div>"
      ],
      "text/plain": [
       "   Unnamed: 0  Year  Month  DayofMonth  DayOfWeek  DepTime  CRSDepTime  \\\n",
       "0       70201  2008      2           3          7   1523.0        1335   \n",
       "1       70202  2008      2          22          5   2116.0        2102   \n",
       "\n",
       "   ArrTime  CRSArrTime UniqueCarrier  ...  LateAircraftDelay  \\\n",
       "0      NaN        1613            OO  ...                NaN   \n",
       "1      NaN        2349            OO  ...                NaN   \n",
       "\n",
       "                 AIRLINE                  airport_x       city_x      lat_x  \\\n",
       "0  Skywest Airlines Inc.  Los Angeles International  Los Angeles  33.942536   \n",
       "1  Skywest Airlines Inc.  Los Angeles International  Los Angeles  33.942536   \n",
       "\n",
       "       long_x               airport_y     city_y      lat_y      long_y  \n",
       "0 -118.408074  McCarran International  Las Vegas  36.080361 -115.152333  \n",
       "1 -118.408074  McCarran International  Las Vegas  36.080361 -115.152333  \n",
       "\n",
       "[2 rows x 39 columns]"
      ]
     },
     "execution_count": 2,
     "metadata": {},
     "output_type": "execute_result"
    }
   ],
   "source": [
    "df=pd.read_csv('Final_Dataset_Updated_ProblemAirports.csv')\n",
    "df.head(2)"
   ]
  },
  {
   "cell_type": "code",
   "execution_count": 3,
   "metadata": {},
   "outputs": [
    {
     "data": {
      "text/html": [
       "<div>\n",
       "<style scoped>\n",
       "    .dataframe tbody tr th:only-of-type {\n",
       "        vertical-align: middle;\n",
       "    }\n",
       "\n",
       "    .dataframe tbody tr th {\n",
       "        vertical-align: top;\n",
       "    }\n",
       "\n",
       "    .dataframe thead th {\n",
       "        text-align: right;\n",
       "    }\n",
       "</style>\n",
       "<table border=\"1\" class=\"dataframe\">\n",
       "  <thead>\n",
       "    <tr style=\"text-align: right;\">\n",
       "      <th></th>\n",
       "      <th>Unnamed: 0</th>\n",
       "      <th>Year</th>\n",
       "      <th>Month</th>\n",
       "      <th>DayofMonth</th>\n",
       "      <th>DayOfWeek</th>\n",
       "      <th>DepTime</th>\n",
       "      <th>CRSDepTime</th>\n",
       "      <th>ArrTime</th>\n",
       "      <th>CRSArrTime</th>\n",
       "      <th>UniqueCarrier</th>\n",
       "      <th>...</th>\n",
       "      <th>AIRLINE</th>\n",
       "      <th>airport_x</th>\n",
       "      <th>city_x</th>\n",
       "      <th>lat_x</th>\n",
       "      <th>long_x</th>\n",
       "      <th>airport_y</th>\n",
       "      <th>city_y</th>\n",
       "      <th>lat_y</th>\n",
       "      <th>long_y</th>\n",
       "      <th>total_delay</th>\n",
       "    </tr>\n",
       "  </thead>\n",
       "  <tbody>\n",
       "    <tr>\n",
       "      <td>2</td>\n",
       "      <td>70984</td>\n",
       "      <td>2008</td>\n",
       "      <td>1</td>\n",
       "      <td>1</td>\n",
       "      <td>2</td>\n",
       "      <td>818.0</td>\n",
       "      <td>730</td>\n",
       "      <td>916.0</td>\n",
       "      <td>840</td>\n",
       "      <td>MQ</td>\n",
       "      <td>...</td>\n",
       "      <td>American Eagle Airlines Inc.</td>\n",
       "      <td>Los Angeles International</td>\n",
       "      <td>Los Angeles</td>\n",
       "      <td>33.942536</td>\n",
       "      <td>-118.408074</td>\n",
       "      <td>McCarran International</td>\n",
       "      <td>Las Vegas</td>\n",
       "      <td>36.080361</td>\n",
       "      <td>-115.152333</td>\n",
       "      <td>36.0</td>\n",
       "    </tr>\n",
       "    <tr>\n",
       "      <td>3</td>\n",
       "      <td>70985</td>\n",
       "      <td>2008</td>\n",
       "      <td>1</td>\n",
       "      <td>4</td>\n",
       "      <td>5</td>\n",
       "      <td>751.0</td>\n",
       "      <td>730</td>\n",
       "      <td>908.0</td>\n",
       "      <td>840</td>\n",
       "      <td>MQ</td>\n",
       "      <td>...</td>\n",
       "      <td>American Eagle Airlines Inc.</td>\n",
       "      <td>Los Angeles International</td>\n",
       "      <td>Los Angeles</td>\n",
       "      <td>33.942536</td>\n",
       "      <td>-118.408074</td>\n",
       "      <td>McCarran International</td>\n",
       "      <td>Las Vegas</td>\n",
       "      <td>36.080361</td>\n",
       "      <td>-115.152333</td>\n",
       "      <td>28.0</td>\n",
       "    </tr>\n",
       "  </tbody>\n",
       "</table>\n",
       "<p>2 rows × 40 columns</p>\n",
       "</div>"
      ],
      "text/plain": [
       "   Unnamed: 0  Year  Month  DayofMonth  DayOfWeek  DepTime  CRSDepTime  \\\n",
       "2       70984  2008      1           1          2    818.0         730   \n",
       "3       70985  2008      1           4          5    751.0         730   \n",
       "\n",
       "   ArrTime  CRSArrTime UniqueCarrier  ...                       AIRLINE  \\\n",
       "2    916.0         840            MQ  ...  American Eagle Airlines Inc.   \n",
       "3    908.0         840            MQ  ...  American Eagle Airlines Inc.   \n",
       "\n",
       "                   airport_x       city_x      lat_x      long_x  \\\n",
       "2  Los Angeles International  Los Angeles  33.942536 -118.408074   \n",
       "3  Los Angeles International  Los Angeles  33.942536 -118.408074   \n",
       "\n",
       "                airport_y     city_y      lat_y      long_y  total_delay  \n",
       "2  McCarran International  Las Vegas  36.080361 -115.152333         36.0  \n",
       "3  McCarran International  Las Vegas  36.080361 -115.152333         28.0  \n",
       "\n",
       "[2 rows x 40 columns]"
      ]
     },
     "execution_count": 3,
     "metadata": {},
     "output_type": "execute_result"
    }
   ],
   "source": [
    "df['total_delay'] = (df['CarrierDelay'] + df['WeatherDelay']\n",
    "             + df['NASDelay'] + df['SecurityDelay'] + df['LateAircraftDelay'])\n",
    "\n",
    "df_delayed = df[~np.isnan(df['total_delay'])]\n",
    "df['total_delay'].fillna(0, inplace=True)\n",
    "df_delayed.head(2)\n"
   ]
  },
  {
   "cell_type": "code",
   "execution_count": 4,
   "metadata": {
    "scrolled": true
   },
   "outputs": [
    {
     "data": {
      "text/plain": [
       "Index(['Unnamed: 0', 'Year', 'Month', 'DayofMonth', 'DayOfWeek', 'DepTime',\n",
       "       'CRSDepTime', 'ArrTime', 'CRSArrTime', 'UniqueCarrier', 'FlightNum',\n",
       "       'TailNum', 'ActualElapsedTime', 'CRSElapsedTime', 'AirTime', 'ArrDelay',\n",
       "       'DepDelay', 'Origin', 'Dest', 'Distance', 'TaxiIn', 'TaxiOut',\n",
       "       'Cancelled', 'CancellationCode', 'Diverted', 'CarrierDelay',\n",
       "       'WeatherDelay', 'NASDelay', 'SecurityDelay', 'LateAircraftDelay',\n",
       "       'AIRLINE', 'airport_x', 'city_x', 'lat_x', 'long_x', 'airport_y',\n",
       "       'city_y', 'lat_y', 'long_y', 'total_delay'],\n",
       "      dtype='object')"
      ]
     },
     "execution_count": 4,
     "metadata": {},
     "output_type": "execute_result"
    }
   ],
   "source": [
    "df.columns"
   ]
  },
  {
   "cell_type": "code",
   "execution_count": 5,
   "metadata": {},
   "outputs": [],
   "source": [
    "df=df.drop(['Unnamed: 0','DepTime','ArrTime','UniqueCarrier', 'FlightNum','TailNum','ActualElapsedTime','AirTime', 'ArrDelay',\n",
    "       'DepDelay','TaxiIn','CancellationCode', 'Diverted', 'CarrierDelay',\n",
    "       'WeatherDelay', 'NASDelay', 'SecurityDelay', 'LateAircraftDelay','city_x','city_y'],axis=1)"
   ]
  },
  {
   "cell_type": "code",
   "execution_count": 6,
   "metadata": {
    "scrolled": true
   },
   "outputs": [
    {
     "data": {
      "text/html": [
       "<div>\n",
       "<style scoped>\n",
       "    .dataframe tbody tr th:only-of-type {\n",
       "        vertical-align: middle;\n",
       "    }\n",
       "\n",
       "    .dataframe tbody tr th {\n",
       "        vertical-align: top;\n",
       "    }\n",
       "\n",
       "    .dataframe thead th {\n",
       "        text-align: right;\n",
       "    }\n",
       "</style>\n",
       "<table border=\"1\" class=\"dataframe\">\n",
       "  <thead>\n",
       "    <tr style=\"text-align: right;\">\n",
       "      <th></th>\n",
       "      <th>Year</th>\n",
       "      <th>Month</th>\n",
       "      <th>DayofMonth</th>\n",
       "      <th>DayOfWeek</th>\n",
       "      <th>CRSDepTime</th>\n",
       "      <th>CRSArrTime</th>\n",
       "      <th>CRSElapsedTime</th>\n",
       "      <th>Origin</th>\n",
       "      <th>Dest</th>\n",
       "      <th>Distance</th>\n",
       "      <th>TaxiOut</th>\n",
       "      <th>Cancelled</th>\n",
       "      <th>AIRLINE</th>\n",
       "      <th>airport_x</th>\n",
       "      <th>lat_x</th>\n",
       "      <th>long_x</th>\n",
       "      <th>airport_y</th>\n",
       "      <th>lat_y</th>\n",
       "      <th>long_y</th>\n",
       "      <th>total_delay</th>\n",
       "    </tr>\n",
       "  </thead>\n",
       "  <tbody>\n",
       "    <tr>\n",
       "      <td>0</td>\n",
       "      <td>2008</td>\n",
       "      <td>2</td>\n",
       "      <td>3</td>\n",
       "      <td>7</td>\n",
       "      <td>1335</td>\n",
       "      <td>1613</td>\n",
       "      <td>158.0</td>\n",
       "      <td>LAX</td>\n",
       "      <td>LAS</td>\n",
       "      <td>236</td>\n",
       "      <td>20.0</td>\n",
       "      <td>0</td>\n",
       "      <td>Skywest Airlines Inc.</td>\n",
       "      <td>Los Angeles International</td>\n",
       "      <td>33.942536</td>\n",
       "      <td>-118.408074</td>\n",
       "      <td>McCarran International</td>\n",
       "      <td>36.080361</td>\n",
       "      <td>-115.152333</td>\n",
       "      <td>0.0</td>\n",
       "    </tr>\n",
       "  </tbody>\n",
       "</table>\n",
       "</div>"
      ],
      "text/plain": [
       "   Year  Month  DayofMonth  DayOfWeek  CRSDepTime  CRSArrTime  CRSElapsedTime  \\\n",
       "0  2008      2           3          7        1335        1613           158.0   \n",
       "\n",
       "  Origin Dest  Distance  TaxiOut  Cancelled                AIRLINE  \\\n",
       "0    LAX  LAS       236     20.0          0  Skywest Airlines Inc.   \n",
       "\n",
       "                   airport_x      lat_x      long_x               airport_y  \\\n",
       "0  Los Angeles International  33.942536 -118.408074  McCarran International   \n",
       "\n",
       "       lat_y      long_y  total_delay  \n",
       "0  36.080361 -115.152333          0.0  "
      ]
     },
     "execution_count": 6,
     "metadata": {},
     "output_type": "execute_result"
    }
   ],
   "source": [
    "df.head(1)"
   ]
  },
  {
   "cell_type": "code",
   "execution_count": 7,
   "metadata": {},
   "outputs": [
    {
     "data": {
      "text/plain": [
       "(138511, 20)"
      ]
     },
     "execution_count": 7,
     "metadata": {},
     "output_type": "execute_result"
    }
   ],
   "source": [
    "df.shape"
   ]
  },
  {
   "cell_type": "code",
   "execution_count": 8,
   "metadata": {
    "scrolled": true
   },
   "outputs": [
    {
     "data": {
      "text/html": [
       "<div>\n",
       "<style scoped>\n",
       "    .dataframe tbody tr th:only-of-type {\n",
       "        vertical-align: middle;\n",
       "    }\n",
       "\n",
       "    .dataframe tbody tr th {\n",
       "        vertical-align: top;\n",
       "    }\n",
       "\n",
       "    .dataframe thead th {\n",
       "        text-align: right;\n",
       "    }\n",
       "</style>\n",
       "<table border=\"1\" class=\"dataframe\">\n",
       "  <thead>\n",
       "    <tr style=\"text-align: right;\">\n",
       "      <th></th>\n",
       "      <th>Year</th>\n",
       "      <th>Month</th>\n",
       "      <th>DayofMonth</th>\n",
       "      <th>DayOfWeek</th>\n",
       "      <th>CRSDepTime</th>\n",
       "      <th>CRSArrTime</th>\n",
       "      <th>CRSElapsedTime</th>\n",
       "      <th>Distance</th>\n",
       "      <th>TaxiOut</th>\n",
       "      <th>Cancelled</th>\n",
       "      <th>lat_x</th>\n",
       "      <th>long_x</th>\n",
       "      <th>lat_y</th>\n",
       "      <th>long_y</th>\n",
       "      <th>total_delay</th>\n",
       "    </tr>\n",
       "  </thead>\n",
       "  <tbody>\n",
       "    <tr>\n",
       "      <td>Year</td>\n",
       "      <td>NaN</td>\n",
       "      <td>NaN</td>\n",
       "      <td>NaN</td>\n",
       "      <td>NaN</td>\n",
       "      <td>NaN</td>\n",
       "      <td>NaN</td>\n",
       "      <td>NaN</td>\n",
       "      <td>NaN</td>\n",
       "      <td>NaN</td>\n",
       "      <td>NaN</td>\n",
       "      <td>NaN</td>\n",
       "      <td>NaN</td>\n",
       "      <td>NaN</td>\n",
       "      <td>NaN</td>\n",
       "      <td>NaN</td>\n",
       "    </tr>\n",
       "    <tr>\n",
       "      <td>Month</td>\n",
       "      <td>NaN</td>\n",
       "      <td>1.000000</td>\n",
       "      <td>0.029922</td>\n",
       "      <td>-0.004313</td>\n",
       "      <td>-0.009624</td>\n",
       "      <td>-0.016313</td>\n",
       "      <td>0.029294</td>\n",
       "      <td>0.026736</td>\n",
       "      <td>-0.013235</td>\n",
       "      <td>0.048961</td>\n",
       "      <td>0.002999</td>\n",
       "      <td>-0.025223</td>\n",
       "      <td>0.019047</td>\n",
       "      <td>-0.027637</td>\n",
       "      <td>-0.022239</td>\n",
       "    </tr>\n",
       "    <tr>\n",
       "      <td>DayofMonth</td>\n",
       "      <td>NaN</td>\n",
       "      <td>0.029922</td>\n",
       "      <td>1.000000</td>\n",
       "      <td>0.023931</td>\n",
       "      <td>-0.000749</td>\n",
       "      <td>-0.001913</td>\n",
       "      <td>-0.000842</td>\n",
       "      <td>-0.003940</td>\n",
       "      <td>-0.015867</td>\n",
       "      <td>0.011187</td>\n",
       "      <td>-0.016538</td>\n",
       "      <td>-0.020359</td>\n",
       "      <td>-0.006604</td>\n",
       "      <td>-0.017928</td>\n",
       "      <td>0.004751</td>\n",
       "    </tr>\n",
       "    <tr>\n",
       "      <td>DayOfWeek</td>\n",
       "      <td>NaN</td>\n",
       "      <td>-0.004313</td>\n",
       "      <td>0.023931</td>\n",
       "      <td>1.000000</td>\n",
       "      <td>0.018383</td>\n",
       "      <td>0.013984</td>\n",
       "      <td>0.000698</td>\n",
       "      <td>0.000106</td>\n",
       "      <td>-0.016180</td>\n",
       "      <td>0.001164</td>\n",
       "      <td>-0.005237</td>\n",
       "      <td>-0.031469</td>\n",
       "      <td>-0.001294</td>\n",
       "      <td>-0.029888</td>\n",
       "      <td>-0.022928</td>\n",
       "    </tr>\n",
       "    <tr>\n",
       "      <td>CRSDepTime</td>\n",
       "      <td>NaN</td>\n",
       "      <td>-0.009624</td>\n",
       "      <td>-0.000749</td>\n",
       "      <td>0.018383</td>\n",
       "      <td>1.000000</td>\n",
       "      <td>0.916412</td>\n",
       "      <td>-0.052750</td>\n",
       "      <td>-0.043865</td>\n",
       "      <td>-0.023987</td>\n",
       "      <td>0.003487</td>\n",
       "      <td>0.043952</td>\n",
       "      <td>0.024396</td>\n",
       "      <td>0.040372</td>\n",
       "      <td>-0.016233</td>\n",
       "      <td>0.090504</td>\n",
       "    </tr>\n",
       "    <tr>\n",
       "      <td>CRSArrTime</td>\n",
       "      <td>NaN</td>\n",
       "      <td>-0.016313</td>\n",
       "      <td>-0.001913</td>\n",
       "      <td>0.013984</td>\n",
       "      <td>0.916412</td>\n",
       "      <td>1.000000</td>\n",
       "      <td>0.089564</td>\n",
       "      <td>0.103409</td>\n",
       "      <td>-0.008335</td>\n",
       "      <td>0.001781</td>\n",
       "      <td>0.060702</td>\n",
       "      <td>0.064200</td>\n",
       "      <td>0.047843</td>\n",
       "      <td>0.081547</td>\n",
       "      <td>0.086991</td>\n",
       "    </tr>\n",
       "    <tr>\n",
       "      <td>CRSElapsedTime</td>\n",
       "      <td>NaN</td>\n",
       "      <td>0.029294</td>\n",
       "      <td>-0.000842</td>\n",
       "      <td>0.000698</td>\n",
       "      <td>-0.052750</td>\n",
       "      <td>0.089564</td>\n",
       "      <td>1.000000</td>\n",
       "      <td>0.976355</td>\n",
       "      <td>0.059578</td>\n",
       "      <td>-0.012916</td>\n",
       "      <td>0.000867</td>\n",
       "      <td>0.006806</td>\n",
       "      <td>-0.046046</td>\n",
       "      <td>0.105808</td>\n",
       "      <td>-0.003575</td>\n",
       "    </tr>\n",
       "    <tr>\n",
       "      <td>Distance</td>\n",
       "      <td>NaN</td>\n",
       "      <td>0.026736</td>\n",
       "      <td>-0.003940</td>\n",
       "      <td>0.000106</td>\n",
       "      <td>-0.043865</td>\n",
       "      <td>0.103409</td>\n",
       "      <td>0.976355</td>\n",
       "      <td>1.000000</td>\n",
       "      <td>0.047714</td>\n",
       "      <td>-0.013283</td>\n",
       "      <td>-0.032307</td>\n",
       "      <td>0.022429</td>\n",
       "      <td>-0.053217</td>\n",
       "      <td>0.170251</td>\n",
       "      <td>-0.014214</td>\n",
       "    </tr>\n",
       "    <tr>\n",
       "      <td>TaxiOut</td>\n",
       "      <td>NaN</td>\n",
       "      <td>-0.013235</td>\n",
       "      <td>-0.015867</td>\n",
       "      <td>-0.016180</td>\n",
       "      <td>-0.023987</td>\n",
       "      <td>-0.008335</td>\n",
       "      <td>0.059578</td>\n",
       "      <td>0.047714</td>\n",
       "      <td>1.000000</td>\n",
       "      <td>0.011726</td>\n",
       "      <td>0.103431</td>\n",
       "      <td>0.082623</td>\n",
       "      <td>0.056592</td>\n",
       "      <td>0.080622</td>\n",
       "      <td>0.373869</td>\n",
       "    </tr>\n",
       "    <tr>\n",
       "      <td>Cancelled</td>\n",
       "      <td>NaN</td>\n",
       "      <td>0.048961</td>\n",
       "      <td>0.011187</td>\n",
       "      <td>0.001164</td>\n",
       "      <td>0.003487</td>\n",
       "      <td>0.001781</td>\n",
       "      <td>-0.012916</td>\n",
       "      <td>-0.013283</td>\n",
       "      <td>0.011726</td>\n",
       "      <td>1.000000</td>\n",
       "      <td>0.008094</td>\n",
       "      <td>0.001148</td>\n",
       "      <td>0.007575</td>\n",
       "      <td>-0.001951</td>\n",
       "      <td>-0.024557</td>\n",
       "    </tr>\n",
       "    <tr>\n",
       "      <td>lat_x</td>\n",
       "      <td>NaN</td>\n",
       "      <td>0.002999</td>\n",
       "      <td>-0.016538</td>\n",
       "      <td>-0.005237</td>\n",
       "      <td>0.043952</td>\n",
       "      <td>0.060702</td>\n",
       "      <td>0.000867</td>\n",
       "      <td>-0.032307</td>\n",
       "      <td>0.103431</td>\n",
       "      <td>0.008094</td>\n",
       "      <td>1.000000</td>\n",
       "      <td>0.368027</td>\n",
       "      <td>0.495552</td>\n",
       "      <td>0.227632</td>\n",
       "      <td>0.108701</td>\n",
       "    </tr>\n",
       "    <tr>\n",
       "      <td>long_x</td>\n",
       "      <td>NaN</td>\n",
       "      <td>-0.025223</td>\n",
       "      <td>-0.020359</td>\n",
       "      <td>-0.031469</td>\n",
       "      <td>0.024396</td>\n",
       "      <td>0.064200</td>\n",
       "      <td>0.006806</td>\n",
       "      <td>0.022429</td>\n",
       "      <td>0.082623</td>\n",
       "      <td>0.001148</td>\n",
       "      <td>0.368027</td>\n",
       "      <td>1.000000</td>\n",
       "      <td>0.103476</td>\n",
       "      <td>0.846538</td>\n",
       "      <td>0.057354</td>\n",
       "    </tr>\n",
       "    <tr>\n",
       "      <td>lat_y</td>\n",
       "      <td>NaN</td>\n",
       "      <td>0.019047</td>\n",
       "      <td>-0.006604</td>\n",
       "      <td>-0.001294</td>\n",
       "      <td>0.040372</td>\n",
       "      <td>0.047843</td>\n",
       "      <td>-0.046046</td>\n",
       "      <td>-0.053217</td>\n",
       "      <td>0.056592</td>\n",
       "      <td>0.007575</td>\n",
       "      <td>0.495552</td>\n",
       "      <td>0.103476</td>\n",
       "      <td>1.000000</td>\n",
       "      <td>0.058083</td>\n",
       "      <td>0.057007</td>\n",
       "    </tr>\n",
       "    <tr>\n",
       "      <td>long_y</td>\n",
       "      <td>NaN</td>\n",
       "      <td>-0.027637</td>\n",
       "      <td>-0.017928</td>\n",
       "      <td>-0.029888</td>\n",
       "      <td>-0.016233</td>\n",
       "      <td>0.081547</td>\n",
       "      <td>0.105808</td>\n",
       "      <td>0.170251</td>\n",
       "      <td>0.080622</td>\n",
       "      <td>-0.001951</td>\n",
       "      <td>0.227632</td>\n",
       "      <td>0.846538</td>\n",
       "      <td>0.058083</td>\n",
       "      <td>1.000000</td>\n",
       "      <td>0.033266</td>\n",
       "    </tr>\n",
       "    <tr>\n",
       "      <td>total_delay</td>\n",
       "      <td>NaN</td>\n",
       "      <td>-0.022239</td>\n",
       "      <td>0.004751</td>\n",
       "      <td>-0.022928</td>\n",
       "      <td>0.090504</td>\n",
       "      <td>0.086991</td>\n",
       "      <td>-0.003575</td>\n",
       "      <td>-0.014214</td>\n",
       "      <td>0.373869</td>\n",
       "      <td>-0.024557</td>\n",
       "      <td>0.108701</td>\n",
       "      <td>0.057354</td>\n",
       "      <td>0.057007</td>\n",
       "      <td>0.033266</td>\n",
       "      <td>1.000000</td>\n",
       "    </tr>\n",
       "  </tbody>\n",
       "</table>\n",
       "</div>"
      ],
      "text/plain": [
       "                Year     Month  DayofMonth  DayOfWeek  CRSDepTime  CRSArrTime  \\\n",
       "Year             NaN       NaN         NaN        NaN         NaN         NaN   \n",
       "Month            NaN  1.000000    0.029922  -0.004313   -0.009624   -0.016313   \n",
       "DayofMonth       NaN  0.029922    1.000000   0.023931   -0.000749   -0.001913   \n",
       "DayOfWeek        NaN -0.004313    0.023931   1.000000    0.018383    0.013984   \n",
       "CRSDepTime       NaN -0.009624   -0.000749   0.018383    1.000000    0.916412   \n",
       "CRSArrTime       NaN -0.016313   -0.001913   0.013984    0.916412    1.000000   \n",
       "CRSElapsedTime   NaN  0.029294   -0.000842   0.000698   -0.052750    0.089564   \n",
       "Distance         NaN  0.026736   -0.003940   0.000106   -0.043865    0.103409   \n",
       "TaxiOut          NaN -0.013235   -0.015867  -0.016180   -0.023987   -0.008335   \n",
       "Cancelled        NaN  0.048961    0.011187   0.001164    0.003487    0.001781   \n",
       "lat_x            NaN  0.002999   -0.016538  -0.005237    0.043952    0.060702   \n",
       "long_x           NaN -0.025223   -0.020359  -0.031469    0.024396    0.064200   \n",
       "lat_y            NaN  0.019047   -0.006604  -0.001294    0.040372    0.047843   \n",
       "long_y           NaN -0.027637   -0.017928  -0.029888   -0.016233    0.081547   \n",
       "total_delay      NaN -0.022239    0.004751  -0.022928    0.090504    0.086991   \n",
       "\n",
       "                CRSElapsedTime  Distance   TaxiOut  Cancelled     lat_x  \\\n",
       "Year                       NaN       NaN       NaN        NaN       NaN   \n",
       "Month                 0.029294  0.026736 -0.013235   0.048961  0.002999   \n",
       "DayofMonth           -0.000842 -0.003940 -0.015867   0.011187 -0.016538   \n",
       "DayOfWeek             0.000698  0.000106 -0.016180   0.001164 -0.005237   \n",
       "CRSDepTime           -0.052750 -0.043865 -0.023987   0.003487  0.043952   \n",
       "CRSArrTime            0.089564  0.103409 -0.008335   0.001781  0.060702   \n",
       "CRSElapsedTime        1.000000  0.976355  0.059578  -0.012916  0.000867   \n",
       "Distance              0.976355  1.000000  0.047714  -0.013283 -0.032307   \n",
       "TaxiOut               0.059578  0.047714  1.000000   0.011726  0.103431   \n",
       "Cancelled            -0.012916 -0.013283  0.011726   1.000000  0.008094   \n",
       "lat_x                 0.000867 -0.032307  0.103431   0.008094  1.000000   \n",
       "long_x                0.006806  0.022429  0.082623   0.001148  0.368027   \n",
       "lat_y                -0.046046 -0.053217  0.056592   0.007575  0.495552   \n",
       "long_y                0.105808  0.170251  0.080622  -0.001951  0.227632   \n",
       "total_delay          -0.003575 -0.014214  0.373869  -0.024557  0.108701   \n",
       "\n",
       "                  long_x     lat_y    long_y  total_delay  \n",
       "Year                 NaN       NaN       NaN          NaN  \n",
       "Month          -0.025223  0.019047 -0.027637    -0.022239  \n",
       "DayofMonth     -0.020359 -0.006604 -0.017928     0.004751  \n",
       "DayOfWeek      -0.031469 -0.001294 -0.029888    -0.022928  \n",
       "CRSDepTime      0.024396  0.040372 -0.016233     0.090504  \n",
       "CRSArrTime      0.064200  0.047843  0.081547     0.086991  \n",
       "CRSElapsedTime  0.006806 -0.046046  0.105808    -0.003575  \n",
       "Distance        0.022429 -0.053217  0.170251    -0.014214  \n",
       "TaxiOut         0.082623  0.056592  0.080622     0.373869  \n",
       "Cancelled       0.001148  0.007575 -0.001951    -0.024557  \n",
       "lat_x           0.368027  0.495552  0.227632     0.108701  \n",
       "long_x          1.000000  0.103476  0.846538     0.057354  \n",
       "lat_y           0.103476  1.000000  0.058083     0.057007  \n",
       "long_y          0.846538  0.058083  1.000000     0.033266  \n",
       "total_delay     0.057354  0.057007  0.033266     1.000000  "
      ]
     },
     "execution_count": 8,
     "metadata": {},
     "output_type": "execute_result"
    }
   ],
   "source": [
    "df.corr()"
   ]
  },
  {
   "cell_type": "code",
   "execution_count": 9,
   "metadata": {
    "scrolled": true
   },
   "outputs": [
    {
     "data": {
      "image/png": "[encoded data removed]",
      "text/plain": [
       "<Figure size 432x288 with 2 Axes>"
      ]
     },
     "metadata": {
      "needs_background": "light"
     },
     "output_type": "display_data"
    }
   ],
   "source": [
    "import seaborn as sns\n",
    "corr = df.corr()\n",
    "ax = sns.heatmap(\n",
    "    corr, \n",
    "    vmin=-1, vmax=1, center=0,\n",
    "    cmap=sns.diverging_palette(20, 220, n=200),\n",
    "    square=True\n",
    ")\n",
    "ax.set_xticklabels(\n",
    "    ax.get_xticklabels(),\n",
    "    rotation=45,\n",
    "    horizontalalignment='right'\n",
    ");"
   ]
  },
  {
   "cell_type": "code",
   "execution_count": 10,
   "metadata": {},
   "outputs": [
    {
     "data": {
      "text/plain": [
       "Year              False\n",
       "Month             False\n",
       "DayofMonth        False\n",
       "DayOfWeek         False\n",
       "CRSDepTime        False\n",
       "CRSArrTime        False\n",
       "CRSElapsedTime    False\n",
       "Origin            False\n",
       "Dest              False\n",
       "Distance          False\n",
       "TaxiOut            True\n",
       "Cancelled         False\n",
       "AIRLINE           False\n",
       "airport_x         False\n",
       "lat_x             False\n",
       "long_x            False\n",
       "airport_y         False\n",
       "lat_y             False\n",
       "long_y            False\n",
       "total_delay       False\n",
       "dtype: bool"
      ]
     },
     "execution_count": 10,
     "metadata": {},
     "output_type": "execute_result"
    }
   ],
   "source": [
    "df.isnull().any()"
   ]
  },
  {
   "cell_type": "code",
   "execution_count": 11,
   "metadata": {},
   "outputs": [
    {
     "data": {
      "text/html": [
       "<div>\n",
       "<style scoped>\n",
       "    .dataframe tbody tr th:only-of-type {\n",
       "        vertical-align: middle;\n",
       "    }\n",
       "\n",
       "    .dataframe tbody tr th {\n",
       "        vertical-align: top;\n",
       "    }\n",
       "\n",
       "    .dataframe thead th {\n",
       "        text-align: right;\n",
       "    }\n",
       "</style>\n",
       "<table border=\"1\" class=\"dataframe\">\n",
       "  <thead>\n",
       "    <tr style=\"text-align: right;\">\n",
       "      <th></th>\n",
       "      <th>Missing Records</th>\n",
       "      <th>Percentage (%)</th>\n",
       "    </tr>\n",
       "  </thead>\n",
       "  <tbody>\n",
       "    <tr>\n",
       "      <td>Year</td>\n",
       "      <td>0</td>\n",
       "      <td>0.000000</td>\n",
       "    </tr>\n",
       "    <tr>\n",
       "      <td>Month</td>\n",
       "      <td>0</td>\n",
       "      <td>0.000000</td>\n",
       "    </tr>\n",
       "    <tr>\n",
       "      <td>DayofMonth</td>\n",
       "      <td>0</td>\n",
       "      <td>0.000000</td>\n",
       "    </tr>\n",
       "    <tr>\n",
       "      <td>DayOfWeek</td>\n",
       "      <td>0</td>\n",
       "      <td>0.000000</td>\n",
       "    </tr>\n",
       "    <tr>\n",
       "      <td>CRSDepTime</td>\n",
       "      <td>0</td>\n",
       "      <td>0.000000</td>\n",
       "    </tr>\n",
       "    <tr>\n",
       "      <td>CRSArrTime</td>\n",
       "      <td>0</td>\n",
       "      <td>0.000000</td>\n",
       "    </tr>\n",
       "    <tr>\n",
       "      <td>CRSElapsedTime</td>\n",
       "      <td>0</td>\n",
       "      <td>0.000000</td>\n",
       "    </tr>\n",
       "    <tr>\n",
       "      <td>Origin</td>\n",
       "      <td>0</td>\n",
       "      <td>0.000000</td>\n",
       "    </tr>\n",
       "    <tr>\n",
       "      <td>Dest</td>\n",
       "      <td>0</td>\n",
       "      <td>0.000000</td>\n",
       "    </tr>\n",
       "    <tr>\n",
       "      <td>Distance</td>\n",
       "      <td>0</td>\n",
       "      <td>0.000000</td>\n",
       "    </tr>\n",
       "    <tr>\n",
       "      <td>TaxiOut</td>\n",
       "      <td>79</td>\n",
       "      <td>0.057035</td>\n",
       "    </tr>\n",
       "    <tr>\n",
       "      <td>Cancelled</td>\n",
       "      <td>0</td>\n",
       "      <td>0.000000</td>\n",
       "    </tr>\n",
       "    <tr>\n",
       "      <td>AIRLINE</td>\n",
       "      <td>0</td>\n",
       "      <td>0.000000</td>\n",
       "    </tr>\n",
       "    <tr>\n",
       "      <td>airport_x</td>\n",
       "      <td>0</td>\n",
       "      <td>0.000000</td>\n",
       "    </tr>\n",
       "    <tr>\n",
       "      <td>lat_x</td>\n",
       "      <td>0</td>\n",
       "      <td>0.000000</td>\n",
       "    </tr>\n",
       "    <tr>\n",
       "      <td>long_x</td>\n",
       "      <td>0</td>\n",
       "      <td>0.000000</td>\n",
       "    </tr>\n",
       "    <tr>\n",
       "      <td>airport_y</td>\n",
       "      <td>0</td>\n",
       "      <td>0.000000</td>\n",
       "    </tr>\n",
       "    <tr>\n",
       "      <td>lat_y</td>\n",
       "      <td>0</td>\n",
       "      <td>0.000000</td>\n",
       "    </tr>\n",
       "    <tr>\n",
       "      <td>long_y</td>\n",
       "      <td>0</td>\n",
       "      <td>0.000000</td>\n",
       "    </tr>\n",
       "    <tr>\n",
       "      <td>total_delay</td>\n",
       "      <td>0</td>\n",
       "      <td>0.000000</td>\n",
       "    </tr>\n",
       "  </tbody>\n",
       "</table>\n",
       "</div>"
      ],
      "text/plain": [
       "                Missing Records  Percentage (%)\n",
       "Year                          0        0.000000\n",
       "Month                         0        0.000000\n",
       "DayofMonth                    0        0.000000\n",
       "DayOfWeek                     0        0.000000\n",
       "CRSDepTime                    0        0.000000\n",
       "CRSArrTime                    0        0.000000\n",
       "CRSElapsedTime                0        0.000000\n",
       "Origin                        0        0.000000\n",
       "Dest                          0        0.000000\n",
       "Distance                      0        0.000000\n",
       "TaxiOut                      79        0.057035\n",
       "Cancelled                     0        0.000000\n",
       "AIRLINE                       0        0.000000\n",
       "airport_x                     0        0.000000\n",
       "lat_x                         0        0.000000\n",
       "long_x                        0        0.000000\n",
       "airport_y                     0        0.000000\n",
       "lat_y                         0        0.000000\n",
       "long_y                        0        0.000000\n",
       "total_delay                   0        0.000000"
      ]
     },
     "execution_count": 11,
     "metadata": {},
     "output_type": "execute_result"
    }
   ],
   "source": [
    "pd.concat([df.isnull().sum(), 100 * df.isnull().sum()/len(df)], \n",
    "              axis=1).rename(columns={0:'Missing Records', 1:'Percentage (%)'})"
   ]
  },
  {
   "cell_type": "code",
   "execution_count": 12,
   "metadata": {},
   "outputs": [],
   "source": [
    "df['TaxiOut'].fillna((df['TaxiOut'].mean()),inplace=True)"
   ]
  },
  {
   "cell_type": "code",
   "execution_count": 13,
   "metadata": {},
   "outputs": [
    {
     "data": {
      "text/html": [
       "<div>\n",
       "<style scoped>\n",
       "    .dataframe tbody tr th:only-of-type {\n",
       "        vertical-align: middle;\n",
       "    }\n",
       "\n",
       "    .dataframe tbody tr th {\n",
       "        vertical-align: top;\n",
       "    }\n",
       "\n",
       "    .dataframe thead th {\n",
       "        text-align: right;\n",
       "    }\n",
       "</style>\n",
       "<table border=\"1\" class=\"dataframe\">\n",
       "  <thead>\n",
       "    <tr style=\"text-align: right;\">\n",
       "      <th></th>\n",
       "      <th>Missing Records</th>\n",
       "      <th>Percentage (%)</th>\n",
       "    </tr>\n",
       "  </thead>\n",
       "  <tbody>\n",
       "    <tr>\n",
       "      <td>Year</td>\n",
       "      <td>0</td>\n",
       "      <td>0.0</td>\n",
       "    </tr>\n",
       "    <tr>\n",
       "      <td>Month</td>\n",
       "      <td>0</td>\n",
       "      <td>0.0</td>\n",
       "    </tr>\n",
       "    <tr>\n",
       "      <td>DayofMonth</td>\n",
       "      <td>0</td>\n",
       "      <td>0.0</td>\n",
       "    </tr>\n",
       "    <tr>\n",
       "      <td>DayOfWeek</td>\n",
       "      <td>0</td>\n",
       "      <td>0.0</td>\n",
       "    </tr>\n",
       "    <tr>\n",
       "      <td>CRSDepTime</td>\n",
       "      <td>0</td>\n",
       "      <td>0.0</td>\n",
       "    </tr>\n",
       "    <tr>\n",
       "      <td>CRSArrTime</td>\n",
       "      <td>0</td>\n",
       "      <td>0.0</td>\n",
       "    </tr>\n",
       "    <tr>\n",
       "      <td>CRSElapsedTime</td>\n",
       "      <td>0</td>\n",
       "      <td>0.0</td>\n",
       "    </tr>\n",
       "    <tr>\n",
       "      <td>Origin</td>\n",
       "      <td>0</td>\n",
       "      <td>0.0</td>\n",
       "    </tr>\n",
       "    <tr>\n",
       "      <td>Dest</td>\n",
       "      <td>0</td>\n",
       "      <td>0.0</td>\n",
       "    </tr>\n",
       "    <tr>\n",
       "      <td>Distance</td>\n",
       "      <td>0</td>\n",
       "      <td>0.0</td>\n",
       "    </tr>\n",
       "    <tr>\n",
       "      <td>TaxiOut</td>\n",
       "      <td>0</td>\n",
       "      <td>0.0</td>\n",
       "    </tr>\n",
       "    <tr>\n",
       "      <td>Cancelled</td>\n",
       "      <td>0</td>\n",
       "      <td>0.0</td>\n",
       "    </tr>\n",
       "    <tr>\n",
       "      <td>AIRLINE</td>\n",
       "      <td>0</td>\n",
       "      <td>0.0</td>\n",
       "    </tr>\n",
       "    <tr>\n",
       "      <td>airport_x</td>\n",
       "      <td>0</td>\n",
       "      <td>0.0</td>\n",
       "    </tr>\n",
       "    <tr>\n",
       "      <td>lat_x</td>\n",
       "      <td>0</td>\n",
       "      <td>0.0</td>\n",
       "    </tr>\n",
       "    <tr>\n",
       "      <td>long_x</td>\n",
       "      <td>0</td>\n",
       "      <td>0.0</td>\n",
       "    </tr>\n",
       "    <tr>\n",
       "      <td>airport_y</td>\n",
       "      <td>0</td>\n",
       "      <td>0.0</td>\n",
       "    </tr>\n",
       "    <tr>\n",
       "      <td>lat_y</td>\n",
       "      <td>0</td>\n",
       "      <td>0.0</td>\n",
       "    </tr>\n",
       "    <tr>\n",
       "      <td>long_y</td>\n",
       "      <td>0</td>\n",
       "      <td>0.0</td>\n",
       "    </tr>\n",
       "    <tr>\n",
       "      <td>total_delay</td>\n",
       "      <td>0</td>\n",
       "      <td>0.0</td>\n",
       "    </tr>\n",
       "  </tbody>\n",
       "</table>\n",
       "</div>"
      ],
      "text/plain": [
       "                Missing Records  Percentage (%)\n",
       "Year                          0             0.0\n",
       "Month                         0             0.0\n",
       "DayofMonth                    0             0.0\n",
       "DayOfWeek                     0             0.0\n",
       "CRSDepTime                    0             0.0\n",
       "CRSArrTime                    0             0.0\n",
       "CRSElapsedTime                0             0.0\n",
       "Origin                        0             0.0\n",
       "Dest                          0             0.0\n",
       "Distance                      0             0.0\n",
       "TaxiOut                       0             0.0\n",
       "Cancelled                     0             0.0\n",
       "AIRLINE                       0             0.0\n",
       "airport_x                     0             0.0\n",
       "lat_x                         0             0.0\n",
       "long_x                        0             0.0\n",
       "airport_y                     0             0.0\n",
       "lat_y                         0             0.0\n",
       "long_y                        0             0.0\n",
       "total_delay                   0             0.0"
      ]
     },
     "execution_count": 13,
     "metadata": {},
     "output_type": "execute_result"
    }
   ],
   "source": [
    "pd.concat([df.isnull().sum(), 100 * df.isnull().sum()/len(df)], \n",
    "              axis=1).rename(columns={0:'Missing Records', 1:'Percentage (%)'})"
   ]
  },
  {
   "cell_type": "code",
   "execution_count": 14,
   "metadata": {},
   "outputs": [
    {
     "data": {
      "text/plain": [
       "Year                int64\n",
       "Month               int64\n",
       "DayofMonth          int64\n",
       "DayOfWeek           int64\n",
       "CRSDepTime          int64\n",
       "CRSArrTime          int64\n",
       "CRSElapsedTime    float64\n",
       "Origin             object\n",
       "Dest               object\n",
       "Distance            int64\n",
       "TaxiOut           float64\n",
       "Cancelled           int64\n",
       "AIRLINE            object\n",
       "airport_x          object\n",
       "lat_x             float64\n",
       "long_x            float64\n",
       "airport_y          object\n",
       "lat_y             float64\n",
       "long_y            float64\n",
       "total_delay       float64\n",
       "dtype: object"
      ]
     },
     "execution_count": 14,
     "metadata": {},
     "output_type": "execute_result"
    }
   ],
   "source": [
    "df.dtypes"
   ]
  },
  {
   "cell_type": "code",
   "execution_count": 15,
   "metadata": {},
   "outputs": [
    {
     "data": {
      "text/plain": [
       "array(['LAX', 'SLC', 'PDX', 'SFO', 'DEN', 'DFW', 'MKE', 'CID', 'ORD',\n",
       "       'BOS'], dtype=object)"
      ]
     },
     "execution_count": 15,
     "metadata": {},
     "output_type": "execute_result"
    }
   ],
   "source": [
    "df['Origin'].unique()"
   ]
  },
  {
   "cell_type": "code",
   "execution_count": 16,
   "metadata": {},
   "outputs": [
    {
     "data": {
      "text/plain": [
       "array(['LAS', 'LAX', 'ORD', 'SFO', 'SEA', 'PDX', 'BDL', 'SAN', 'RDU',\n",
       "       'SJC', 'OAK', 'SMF', 'DEN', 'MSY', 'ABQ', 'LGA', 'PHX', 'TUS',\n",
       "       'IAH', 'CLT', 'ATL', 'SLC', 'CVG', 'DFW', 'JFK', 'LGB', 'BUR',\n",
       "       'BWI', 'JAX', 'MCI', 'MKE', 'XNA', 'PHL', 'DCA', 'HOU', 'BHM',\n",
       "       'BNA', 'IND', 'ORF', 'ALB', 'AMA', 'AUS', 'BOI', 'BUF', 'CLE',\n",
       "       'CMH', 'ELP', 'GEG', 'LBB', 'LIT', 'MAF', 'OKC', 'OMA', 'ONT',\n",
       "       'PIT', 'PVD', 'RNO', 'SAT', 'SDF', 'SNA', 'STL', 'TUL', 'PSP',\n",
       "       'FAT', 'EWR', 'MSP', 'DTW', 'SGU', 'CLD', 'MOD', 'ASE', 'COS',\n",
       "       'BFL', 'MRY', 'SBA', 'SBP', 'IYK', 'SMX', 'YUM', 'OXR', 'IPL',\n",
       "       'MTJ', 'ICT', 'GJT', 'MFR', 'DSM', 'JAC', 'DAL', 'MSN', 'LNK',\n",
       "       'JAN', 'PNS', 'HSV', 'TYS', 'RIC', 'LEX', 'MEM', 'HPN', 'ROC',\n",
       "       'SYR', 'BTV', 'BMI', 'GRB', 'EUG', 'RDM', 'OTH', 'LMT', 'ATW',\n",
       "       'SPI', 'ACV', 'RDD', 'PMD', 'CEC', 'CIC', 'BZN', 'FCA', 'SUN',\n",
       "       'CPR', 'TWF', 'IDA', 'MSO', 'RAP', 'YKM', 'DRO', 'SLE', 'HLN',\n",
       "       'LWS', 'GTF', 'BIL', 'BTM', 'PSC', 'PIH', 'EKO', 'COD', 'BLI',\n",
       "       'HDN', 'FAR', 'FSD', 'CDC', 'SGF', 'CYS', 'WYS', 'RKS', 'GCC',\n",
       "       'GUC', 'PIA', 'SBN', 'GRR', 'DAY', 'BIS', 'MLI', 'CID', 'RFD',\n",
       "       'TVC', 'CAK', 'CRP', 'ROA', 'CHS', 'AZO', 'SAV', 'CRW', 'AVP',\n",
       "       'ABE', 'CWA', 'LAN', 'FWA', 'MBS', 'GSO', 'MDT', 'CMI', 'SHV',\n",
       "       'MOB', 'EVV', 'RST', 'MQT', 'CHA', 'LSE', 'FNT', 'DBQ', 'GPT',\n",
       "       'GSP', 'BTR', 'TOL', 'VPS', 'CAE', 'LFT', 'AEX', 'FSM', 'GRK',\n",
       "       'MLU', 'LAW', 'TYR', 'CLL', 'ABI', 'TXK', 'ACT', 'SPS', 'SJT',\n",
       "       'GGG', 'LRD', 'ROW', 'MKG'], dtype=object)"
      ]
     },
     "execution_count": 16,
     "metadata": {},
     "output_type": "execute_result"
    }
   ],
   "source": [
    "df['Dest'].unique()"
   ]
  },
  {
   "cell_type": "code",
   "execution_count": 17,
   "metadata": {},
   "outputs": [
    {
     "data": {
      "text/plain": [
       "array(['Skywest Airlines Inc.', 'American Eagle Airlines Inc.'],\n",
       "      dtype=object)"
      ]
     },
     "execution_count": 17,
     "metadata": {},
     "output_type": "execute_result"
    }
   ],
   "source": [
    "df['AIRLINE'].unique()"
   ]
  },
  {
   "cell_type": "code",
   "execution_count": 18,
   "metadata": {},
   "outputs": [
    {
     "data": {
      "text/plain": [
       "array(['Los Angeles International', 'Salt Lake City Intl',\n",
       "       'Portland Intl', 'San Francisco International', 'Denver Intl',\n",
       "       'Dallas-Fort Worth International',\n",
       "       'General Mitchell International', 'Eastern Iowa ',\n",
       "       'Chicago OHare International', 'Gen Edw L Logan Intl'],\n",
       "      dtype=object)"
      ]
     },
     "execution_count": 18,
     "metadata": {},
     "output_type": "execute_result"
    }
   ],
   "source": [
    "df['airport_x'].unique()"
   ]
  },
  {
   "cell_type": "code",
   "execution_count": null,
   "metadata": {},
   "outputs": [],
   "source": [
    "df['Cancelled'].value_counts()"
   ]
  },
  {
   "cell_type": "code",
   "execution_count": 19,
   "metadata": {
    "scrolled": true
   },
   "outputs": [
    {
     "data": {
      "text/plain": [
       "array(['McCarran International', 'Los Angeles International',\n",
       "       'Chicago OHare International', 'San Francisco International',\n",
       "       'Seattle-Tacoma Intl', 'Portland Intl', 'Bradley International',\n",
       "       'San Diego International-Lindbergh ',\n",
       "       'Raleigh-Durham International', 'San Jose International',\n",
       "       'Metropolitan Oakland International', 'Sacramento International',\n",
       "       'Denver Intl', 'New Orleans International ',\n",
       "       'Albuquerque International', 'LaGuardia',\n",
       "       'Phoenix Sky Harbor International', 'Tucson International',\n",
       "       'George Bush Intercontinental', 'Charlotte/Douglas International',\n",
       "       'William B Hartsfield-Atlanta Intl', 'Salt Lake City Intl',\n",
       "       'Cincinnati Northern Kentucky Intl',\n",
       "       'Dallas-Fort Worth International', 'John F Kennedy Intl',\n",
       "       'Long Beach (Daugherty )', 'Burbank-Glendale-Pasadena',\n",
       "       'Baltimore-Washington International', 'Jacksonville International',\n",
       "       'Kansas City International', 'General Mitchell International',\n",
       "       'Northwest Arkansas Regional', 'Philadelphia Intl',\n",
       "       'Ronald Reagan Washington National', 'William P Hobby',\n",
       "       'Birmingham International', 'Nashville International',\n",
       "       'Indianapolis International', 'Norfolk International',\n",
       "       'Albany Cty', 'Amarillo International',\n",
       "       'Austin-Bergstrom International', 'Boise Air Terminal',\n",
       "       'Buffalo Niagara Intl', 'Cleveland-Hopkins Intl',\n",
       "       'Port Columbus Intl', 'El Paso International', 'Spokane Intl',\n",
       "       'Lubbock International', 'Adams ', 'Midland International',\n",
       "       'Will Rogers World', 'Eppley Airfield', 'Ontario International',\n",
       "       'Pittsburgh International', 'Theodore F Green State',\n",
       "       'Reno/Tahoe International', 'San Antonio International',\n",
       "       'Louisville International-Standiford ', 'John Wayne /Orange Co',\n",
       "       'Lambert-St Louis International', 'Tulsa International',\n",
       "       'Palm Springs International', 'Fresno Yosemite International',\n",
       "       'Newark Intl', 'Minneapolis-St Paul Intl',\n",
       "       'Detroit Metropolitan-Wayne County', 'St George Muni',\n",
       "       'MC Clellan-Palomar Airport', 'Modesto City-County-Harry Sham ',\n",
       "       'Aspen-Pitkin Co/Sardy ', 'City of Colorado Springs Muni',\n",
       "       'Meadows ', 'Monterey Peninsula', 'Santa Barbara Municipal',\n",
       "       'San Luis Obispo Co-McChesney ', 'Inyokern',\n",
       "       'Santa Maria Pub/Capt G Allan Hancock ',\n",
       "       'Yuma MCAS-Yuma International', 'Oxnard', 'Imperial County',\n",
       "       'Montrose Regional', 'Wichita Mid-Continent', 'Walker ',\n",
       "       'Rogue Valley International', 'Des Moines International',\n",
       "       'Jackson Hole', 'Dallas Love ', 'Dane County Regional',\n",
       "       'Lincoln Municipal', 'Jackson International', 'Pensacola Regional',\n",
       "       'Huntsville International ', 'McGhee-Tyson',\n",
       "       'Richmond International', 'Blue Grass ', 'Memphis International',\n",
       "       'Westchester Cty', \"Greater Rochester Int'l\",\n",
       "       'Syracuse-Hancock Intl', 'Burlington International',\n",
       "       'Central Illinois Regional', 'Austin Straubel International',\n",
       "       'Mahlon Sweet ', 'Roberts ', 'North Bend Muni',\n",
       "       'Klamath Falls International', 'Outagamie County Regional',\n",
       "       'Capital', 'Arcata', 'Redding Municipal',\n",
       "       'Palmdale Production Flight', 'Jack McNamara ', 'Chico Municipal',\n",
       "       'Gallatin ', 'Glacier Park Intl', 'Friedman Memorial',\n",
       "       'Natrona County Intl', 'Joslin Field - Magic Valley',\n",
       "       'Idaho Falls Regional', 'Missoula International',\n",
       "       'Rapid City Regional', 'Yakima Air Terminal',\n",
       "       'Durango-La Plata County', 'McNary Fld', 'Helena Regional',\n",
       "       'Lewiston-Nez Perce County', 'Great Falls Intl',\n",
       "       'Billings Logan Intl', 'Bert Mooney', 'Tri-Cities',\n",
       "       'Pocatello Regional', 'Elko Regional', 'Yellowstone Regional',\n",
       "       'Bellingham Intl', 'Yampa Valley', 'Hector International',\n",
       "       'Joe Foss ', 'Cedar City Muni', 'Springfield-Branson Regional',\n",
       "       'Cheyenne', 'Yellowstone', 'Rock Springs-Sweetwater County',\n",
       "       'Gillette-Campbell County', 'Gunnison County',\n",
       "       'Greater Peoria Regional', 'South Bend Regional',\n",
       "       'Kent County International', 'James M Cox Dayton Intl',\n",
       "       'Bismarck Municipal', 'Quad City', 'Eastern Iowa ',\n",
       "       'Greater Rockford', 'Cherry Capital', 'Akron-Canton Regional',\n",
       "       'Corpus Christi International', 'Roanoke Regional/ Woodrum ',\n",
       "       'Charleston AFB/International', 'Kalamazoo County',\n",
       "       'Savannah International', 'Yeager', 'Wilkes-Barre/Scranton Intl',\n",
       "       'Lehigh Valley International', 'Central Wisconsin', 'Capital City',\n",
       "       'Fort Wayne International', 'Mbs International',\n",
       "       'Piedmont Triad International', 'Harrisburg Intl',\n",
       "       'University of Illinois-Willard', 'Shreveport Regional',\n",
       "       'Mobile Regional', 'Evansville Regional',\n",
       "       'Rochester International', 'Marquette County Airport', 'Lovell ',\n",
       "       'La Crosse Municipal', 'Bishop', 'Dubuque Municipal',\n",
       "       'Gulfport-Biloxi Regional', 'Greenville-Spartanburg',\n",
       "       'Baton Rouge Metropolitan, Ryan ', 'Toledo Express',\n",
       "       'Eglin Air Force Base', 'Columbia Metropolitan',\n",
       "       'Lafayette Regional', 'Alexandria International',\n",
       "       'Fort Smith Regional', 'Robert Gray AAF', 'Monroe Regional',\n",
       "       'Lawton-Ft Sill Regional', 'Tyler Pounds ', 'Easterwood ',\n",
       "       'Abilene Regional', 'Texarkana Regional-Webb ', 'Waco Regional',\n",
       "       'Sheppard AFB/Wichita Falls Municipal',\n",
       "       'San Angelo Regional /Mathis ', 'Gregg County',\n",
       "       'Laredo International', 'Roswell Industrial Air Center',\n",
       "       'Muskegon County'], dtype=object)"
      ]
     },
     "execution_count": 19,
     "metadata": {},
     "output_type": "execute_result"
    }
   ],
   "source": [
    "df['airport_y'].unique()"
   ]
  },
  {
   "cell_type": "code",
   "execution_count": 20,
   "metadata": {
    "collapsed": true
   },
   "outputs": [
    {
     "data": {
      "text/html": [
       "<div>\n",
       "<style scoped>\n",
       "    .dataframe tbody tr th:only-of-type {\n",
       "        vertical-align: middle;\n",
       "    }\n",
       "\n",
       "    .dataframe tbody tr th {\n",
       "        vertical-align: top;\n",
       "    }\n",
       "\n",
       "    .dataframe thead th {\n",
       "        text-align: right;\n",
       "    }\n",
       "</style>\n",
       "<table border=\"1\" class=\"dataframe\">\n",
       "  <thead>\n",
       "    <tr style=\"text-align: right;\">\n",
       "      <th></th>\n",
       "      <th>Year</th>\n",
       "      <th>Month</th>\n",
       "      <th>DayofMonth</th>\n",
       "      <th>DayOfWeek</th>\n",
       "      <th>CRSDepTime</th>\n",
       "      <th>CRSArrTime</th>\n",
       "      <th>CRSElapsedTime</th>\n",
       "      <th>Distance</th>\n",
       "      <th>TaxiOut</th>\n",
       "      <th>Cancelled</th>\n",
       "      <th>lat_x</th>\n",
       "      <th>long_x</th>\n",
       "      <th>lat_y</th>\n",
       "      <th>long_y</th>\n",
       "      <th>total_delay</th>\n",
       "    </tr>\n",
       "  </thead>\n",
       "  <tbody>\n",
       "    <tr>\n",
       "      <td>Year</td>\n",
       "      <td>NaN</td>\n",
       "      <td>NaN</td>\n",
       "      <td>NaN</td>\n",
       "      <td>NaN</td>\n",
       "      <td>NaN</td>\n",
       "      <td>NaN</td>\n",
       "      <td>NaN</td>\n",
       "      <td>NaN</td>\n",
       "      <td>NaN</td>\n",
       "      <td>NaN</td>\n",
       "      <td>NaN</td>\n",
       "      <td>NaN</td>\n",
       "      <td>NaN</td>\n",
       "      <td>NaN</td>\n",
       "      <td>NaN</td>\n",
       "    </tr>\n",
       "    <tr>\n",
       "      <td>Month</td>\n",
       "      <td>NaN</td>\n",
       "      <td>1.000000</td>\n",
       "      <td>0.029922</td>\n",
       "      <td>-0.004313</td>\n",
       "      <td>-0.009624</td>\n",
       "      <td>-0.016313</td>\n",
       "      <td>0.029294</td>\n",
       "      <td>0.026736</td>\n",
       "      <td>-0.013225</td>\n",
       "      <td>0.048961</td>\n",
       "      <td>0.002999</td>\n",
       "      <td>-0.025223</td>\n",
       "      <td>0.019047</td>\n",
       "      <td>-0.027637</td>\n",
       "      <td>-0.022239</td>\n",
       "    </tr>\n",
       "    <tr>\n",
       "      <td>DayofMonth</td>\n",
       "      <td>NaN</td>\n",
       "      <td>0.029922</td>\n",
       "      <td>1.000000</td>\n",
       "      <td>0.023931</td>\n",
       "      <td>-0.000749</td>\n",
       "      <td>-0.001913</td>\n",
       "      <td>-0.000842</td>\n",
       "      <td>-0.003940</td>\n",
       "      <td>-0.015863</td>\n",
       "      <td>0.011187</td>\n",
       "      <td>-0.016538</td>\n",
       "      <td>-0.020359</td>\n",
       "      <td>-0.006604</td>\n",
       "      <td>-0.017928</td>\n",
       "      <td>0.004751</td>\n",
       "    </tr>\n",
       "    <tr>\n",
       "      <td>DayOfWeek</td>\n",
       "      <td>NaN</td>\n",
       "      <td>-0.004313</td>\n",
       "      <td>0.023931</td>\n",
       "      <td>1.000000</td>\n",
       "      <td>0.018383</td>\n",
       "      <td>0.013984</td>\n",
       "      <td>0.000698</td>\n",
       "      <td>0.000106</td>\n",
       "      <td>-0.016174</td>\n",
       "      <td>0.001164</td>\n",
       "      <td>-0.005237</td>\n",
       "      <td>-0.031469</td>\n",
       "      <td>-0.001294</td>\n",
       "      <td>-0.029888</td>\n",
       "      <td>-0.022928</td>\n",
       "    </tr>\n",
       "    <tr>\n",
       "      <td>CRSDepTime</td>\n",
       "      <td>NaN</td>\n",
       "      <td>-0.009624</td>\n",
       "      <td>-0.000749</td>\n",
       "      <td>0.018383</td>\n",
       "      <td>1.000000</td>\n",
       "      <td>0.916412</td>\n",
       "      <td>-0.052750</td>\n",
       "      <td>-0.043865</td>\n",
       "      <td>-0.023978</td>\n",
       "      <td>0.003487</td>\n",
       "      <td>0.043952</td>\n",
       "      <td>0.024396</td>\n",
       "      <td>0.040372</td>\n",
       "      <td>-0.016233</td>\n",
       "      <td>0.090504</td>\n",
       "    </tr>\n",
       "    <tr>\n",
       "      <td>CRSArrTime</td>\n",
       "      <td>NaN</td>\n",
       "      <td>-0.016313</td>\n",
       "      <td>-0.001913</td>\n",
       "      <td>0.013984</td>\n",
       "      <td>0.916412</td>\n",
       "      <td>1.000000</td>\n",
       "      <td>0.089564</td>\n",
       "      <td>0.103409</td>\n",
       "      <td>-0.008332</td>\n",
       "      <td>0.001781</td>\n",
       "      <td>0.060702</td>\n",
       "      <td>0.064200</td>\n",
       "      <td>0.047843</td>\n",
       "      <td>0.081547</td>\n",
       "      <td>0.086991</td>\n",
       "    </tr>\n",
       "    <tr>\n",
       "      <td>CRSElapsedTime</td>\n",
       "      <td>NaN</td>\n",
       "      <td>0.029294</td>\n",
       "      <td>-0.000842</td>\n",
       "      <td>0.000698</td>\n",
       "      <td>-0.052750</td>\n",
       "      <td>0.089564</td>\n",
       "      <td>1.000000</td>\n",
       "      <td>0.976355</td>\n",
       "      <td>0.059563</td>\n",
       "      <td>-0.012916</td>\n",
       "      <td>0.000867</td>\n",
       "      <td>0.006806</td>\n",
       "      <td>-0.046046</td>\n",
       "      <td>0.105808</td>\n",
       "      <td>-0.003575</td>\n",
       "    </tr>\n",
       "    <tr>\n",
       "      <td>Distance</td>\n",
       "      <td>NaN</td>\n",
       "      <td>0.026736</td>\n",
       "      <td>-0.003940</td>\n",
       "      <td>0.000106</td>\n",
       "      <td>-0.043865</td>\n",
       "      <td>0.103409</td>\n",
       "      <td>0.976355</td>\n",
       "      <td>1.000000</td>\n",
       "      <td>0.047703</td>\n",
       "      <td>-0.013283</td>\n",
       "      <td>-0.032307</td>\n",
       "      <td>0.022429</td>\n",
       "      <td>-0.053217</td>\n",
       "      <td>0.170251</td>\n",
       "      <td>-0.014214</td>\n",
       "    </tr>\n",
       "    <tr>\n",
       "      <td>TaxiOut</td>\n",
       "      <td>NaN</td>\n",
       "      <td>-0.013225</td>\n",
       "      <td>-0.015863</td>\n",
       "      <td>-0.016174</td>\n",
       "      <td>-0.023978</td>\n",
       "      <td>-0.008332</td>\n",
       "      <td>0.059563</td>\n",
       "      <td>0.047703</td>\n",
       "      <td>1.000000</td>\n",
       "      <td>0.007390</td>\n",
       "      <td>0.103400</td>\n",
       "      <td>0.082599</td>\n",
       "      <td>0.056577</td>\n",
       "      <td>0.080600</td>\n",
       "      <td>0.373801</td>\n",
       "    </tr>\n",
       "    <tr>\n",
       "      <td>Cancelled</td>\n",
       "      <td>NaN</td>\n",
       "      <td>0.048961</td>\n",
       "      <td>0.011187</td>\n",
       "      <td>0.001164</td>\n",
       "      <td>0.003487</td>\n",
       "      <td>0.001781</td>\n",
       "      <td>-0.012916</td>\n",
       "      <td>-0.013283</td>\n",
       "      <td>0.007390</td>\n",
       "      <td>1.000000</td>\n",
       "      <td>0.008094</td>\n",
       "      <td>0.001148</td>\n",
       "      <td>0.007575</td>\n",
       "      <td>-0.001951</td>\n",
       "      <td>-0.024557</td>\n",
       "    </tr>\n",
       "    <tr>\n",
       "      <td>lat_x</td>\n",
       "      <td>NaN</td>\n",
       "      <td>0.002999</td>\n",
       "      <td>-0.016538</td>\n",
       "      <td>-0.005237</td>\n",
       "      <td>0.043952</td>\n",
       "      <td>0.060702</td>\n",
       "      <td>0.000867</td>\n",
       "      <td>-0.032307</td>\n",
       "      <td>0.103400</td>\n",
       "      <td>0.008094</td>\n",
       "      <td>1.000000</td>\n",
       "      <td>0.368027</td>\n",
       "      <td>0.495552</td>\n",
       "      <td>0.227632</td>\n",
       "      <td>0.108701</td>\n",
       "    </tr>\n",
       "    <tr>\n",
       "      <td>long_x</td>\n",
       "      <td>NaN</td>\n",
       "      <td>-0.025223</td>\n",
       "      <td>-0.020359</td>\n",
       "      <td>-0.031469</td>\n",
       "      <td>0.024396</td>\n",
       "      <td>0.064200</td>\n",
       "      <td>0.006806</td>\n",
       "      <td>0.022429</td>\n",
       "      <td>0.082599</td>\n",
       "      <td>0.001148</td>\n",
       "      <td>0.368027</td>\n",
       "      <td>1.000000</td>\n",
       "      <td>0.103476</td>\n",
       "      <td>0.846538</td>\n",
       "      <td>0.057354</td>\n",
       "    </tr>\n",
       "    <tr>\n",
       "      <td>lat_y</td>\n",
       "      <td>NaN</td>\n",
       "      <td>0.019047</td>\n",
       "      <td>-0.006604</td>\n",
       "      <td>-0.001294</td>\n",
       "      <td>0.040372</td>\n",
       "      <td>0.047843</td>\n",
       "      <td>-0.046046</td>\n",
       "      <td>-0.053217</td>\n",
       "      <td>0.056577</td>\n",
       "      <td>0.007575</td>\n",
       "      <td>0.495552</td>\n",
       "      <td>0.103476</td>\n",
       "      <td>1.000000</td>\n",
       "      <td>0.058083</td>\n",
       "      <td>0.057007</td>\n",
       "    </tr>\n",
       "    <tr>\n",
       "      <td>long_y</td>\n",
       "      <td>NaN</td>\n",
       "      <td>-0.027637</td>\n",
       "      <td>-0.017928</td>\n",
       "      <td>-0.029888</td>\n",
       "      <td>-0.016233</td>\n",
       "      <td>0.081547</td>\n",
       "      <td>0.105808</td>\n",
       "      <td>0.170251</td>\n",
       "      <td>0.080600</td>\n",
       "      <td>-0.001951</td>\n",
       "      <td>0.227632</td>\n",
       "      <td>0.846538</td>\n",
       "      <td>0.058083</td>\n",
       "      <td>1.000000</td>\n",
       "      <td>0.033266</td>\n",
       "    </tr>\n",
       "    <tr>\n",
       "      <td>total_delay</td>\n",
       "      <td>NaN</td>\n",
       "      <td>-0.022239</td>\n",
       "      <td>0.004751</td>\n",
       "      <td>-0.022928</td>\n",
       "      <td>0.090504</td>\n",
       "      <td>0.086991</td>\n",
       "      <td>-0.003575</td>\n",
       "      <td>-0.014214</td>\n",
       "      <td>0.373801</td>\n",
       "      <td>-0.024557</td>\n",
       "      <td>0.108701</td>\n",
       "      <td>0.057354</td>\n",
       "      <td>0.057007</td>\n",
       "      <td>0.033266</td>\n",
       "      <td>1.000000</td>\n",
       "    </tr>\n",
       "  </tbody>\n",
       "</table>\n",
       "</div>"
      ],
      "text/plain": [
       "                Year     Month  DayofMonth  DayOfWeek  CRSDepTime  CRSArrTime  \\\n",
       "Year             NaN       NaN         NaN        NaN         NaN         NaN   \n",
       "Month            NaN  1.000000    0.029922  -0.004313   -0.009624   -0.016313   \n",
       "DayofMonth       NaN  0.029922    1.000000   0.023931   -0.000749   -0.001913   \n",
       "DayOfWeek        NaN -0.004313    0.023931   1.000000    0.018383    0.013984   \n",
       "CRSDepTime       NaN -0.009624   -0.000749   0.018383    1.000000    0.916412   \n",
       "CRSArrTime       NaN -0.016313   -0.001913   0.013984    0.916412    1.000000   \n",
       "CRSElapsedTime   NaN  0.029294   -0.000842   0.000698   -0.052750    0.089564   \n",
       "Distance         NaN  0.026736   -0.003940   0.000106   -0.043865    0.103409   \n",
       "TaxiOut          NaN -0.013225   -0.015863  -0.016174   -0.023978   -0.008332   \n",
       "Cancelled        NaN  0.048961    0.011187   0.001164    0.003487    0.001781   \n",
       "lat_x            NaN  0.002999   -0.016538  -0.005237    0.043952    0.060702   \n",
       "long_x           NaN -0.025223   -0.020359  -0.031469    0.024396    0.064200   \n",
       "lat_y            NaN  0.019047   -0.006604  -0.001294    0.040372    0.047843   \n",
       "long_y           NaN -0.027637   -0.017928  -0.029888   -0.016233    0.081547   \n",
       "total_delay      NaN -0.022239    0.004751  -0.022928    0.090504    0.086991   \n",
       "\n",
       "                CRSElapsedTime  Distance   TaxiOut  Cancelled     lat_x  \\\n",
       "Year                       NaN       NaN       NaN        NaN       NaN   \n",
       "Month                 0.029294  0.026736 -0.013225   0.048961  0.002999   \n",
       "DayofMonth           -0.000842 -0.003940 -0.015863   0.011187 -0.016538   \n",
       "DayOfWeek             0.000698  0.000106 -0.016174   0.001164 -0.005237   \n",
       "CRSDepTime           -0.052750 -0.043865 -0.023978   0.003487  0.043952   \n",
       "CRSArrTime            0.089564  0.103409 -0.008332   0.001781  0.060702   \n",
       "CRSElapsedTime        1.000000  0.976355  0.059563  -0.012916  0.000867   \n",
       "Distance              0.976355  1.000000  0.047703  -0.013283 -0.032307   \n",
       "TaxiOut               0.059563  0.047703  1.000000   0.007390  0.103400   \n",
       "Cancelled            -0.012916 -0.013283  0.007390   1.000000  0.008094   \n",
       "lat_x                 0.000867 -0.032307  0.103400   0.008094  1.000000   \n",
       "long_x                0.006806  0.022429  0.082599   0.001148  0.368027   \n",
       "lat_y                -0.046046 -0.053217  0.056577   0.007575  0.495552   \n",
       "long_y                0.105808  0.170251  0.080600  -0.001951  0.227632   \n",
       "total_delay          -0.003575 -0.014214  0.373801  -0.024557  0.108701   \n",
       "\n",
       "                  long_x     lat_y    long_y  total_delay  \n",
       "Year                 NaN       NaN       NaN          NaN  \n",
       "Month          -0.025223  0.019047 -0.027637    -0.022239  \n",
       "DayofMonth     -0.020359 -0.006604 -0.017928     0.004751  \n",
       "DayOfWeek      -0.031469 -0.001294 -0.029888    -0.022928  \n",
       "CRSDepTime      0.024396  0.040372 -0.016233     0.090504  \n",
       "CRSArrTime      0.064200  0.047843  0.081547     0.086991  \n",
       "CRSElapsedTime  0.006806 -0.046046  0.105808    -0.003575  \n",
       "Distance        0.022429 -0.053217  0.170251    -0.014214  \n",
       "TaxiOut         0.082599  0.056577  0.080600     0.373801  \n",
       "Cancelled       0.001148  0.007575 -0.001951    -0.024557  \n",
       "lat_x           0.368027  0.495552  0.227632     0.108701  \n",
       "long_x          1.000000  0.103476  0.846538     0.057354  \n",
       "lat_y           0.103476  1.000000  0.058083     0.057007  \n",
       "long_y          0.846538  0.058083  1.000000     0.033266  \n",
       "total_delay     0.057354  0.057007  0.033266     1.000000  "
      ]
     },
     "execution_count": 20,
     "metadata": {},
     "output_type": "execute_result"
    }
   ],
   "source": [
    "df.corr()"
   ]
  },
  {
   "cell_type": "code",
   "execution_count": 21,
   "metadata": {},
   "outputs": [
    {
     "data": {
      "text/html": [
       "<div>\n",
       "<style scoped>\n",
       "    .dataframe tbody tr th:only-of-type {\n",
       "        vertical-align: middle;\n",
       "    }\n",
       "\n",
       "    .dataframe tbody tr th {\n",
       "        vertical-align: top;\n",
       "    }\n",
       "\n",
       "    .dataframe thead th {\n",
       "        text-align: right;\n",
       "    }\n",
       "</style>\n",
       "<table border=\"1\" class=\"dataframe\">\n",
       "  <thead>\n",
       "    <tr style=\"text-align: right;\">\n",
       "      <th></th>\n",
       "      <th>Year</th>\n",
       "      <th>Month</th>\n",
       "      <th>DayofMonth</th>\n",
       "      <th>DayOfWeek</th>\n",
       "      <th>CRSDepTime</th>\n",
       "      <th>CRSArrTime</th>\n",
       "      <th>CRSElapsedTime</th>\n",
       "      <th>Distance</th>\n",
       "      <th>TaxiOut</th>\n",
       "      <th>Cancelled</th>\n",
       "      <th>...</th>\n",
       "      <th>Dest_TVC</th>\n",
       "      <th>Dest_TWF</th>\n",
       "      <th>Dest_TXK</th>\n",
       "      <th>Dest_TYR</th>\n",
       "      <th>Dest_TYS</th>\n",
       "      <th>Dest_VPS</th>\n",
       "      <th>Dest_WYS</th>\n",
       "      <th>Dest_XNA</th>\n",
       "      <th>Dest_YKM</th>\n",
       "      <th>Dest_YUM</th>\n",
       "    </tr>\n",
       "  </thead>\n",
       "  <tbody>\n",
       "    <tr>\n",
       "      <td>0</td>\n",
       "      <td>2008</td>\n",
       "      <td>2</td>\n",
       "      <td>3</td>\n",
       "      <td>7</td>\n",
       "      <td>1335</td>\n",
       "      <td>1613</td>\n",
       "      <td>158.0</td>\n",
       "      <td>236</td>\n",
       "      <td>20.0</td>\n",
       "      <td>0</td>\n",
       "      <td>...</td>\n",
       "      <td>0</td>\n",
       "      <td>0</td>\n",
       "      <td>0</td>\n",
       "      <td>0</td>\n",
       "      <td>0</td>\n",
       "      <td>0</td>\n",
       "      <td>0</td>\n",
       "      <td>0</td>\n",
       "      <td>0</td>\n",
       "      <td>0</td>\n",
       "    </tr>\n",
       "    <tr>\n",
       "      <td>1</td>\n",
       "      <td>2008</td>\n",
       "      <td>2</td>\n",
       "      <td>22</td>\n",
       "      <td>5</td>\n",
       "      <td>2102</td>\n",
       "      <td>2349</td>\n",
       "      <td>167.0</td>\n",
       "      <td>236</td>\n",
       "      <td>14.0</td>\n",
       "      <td>0</td>\n",
       "      <td>...</td>\n",
       "      <td>0</td>\n",
       "      <td>0</td>\n",
       "      <td>0</td>\n",
       "      <td>0</td>\n",
       "      <td>0</td>\n",
       "      <td>0</td>\n",
       "      <td>0</td>\n",
       "      <td>0</td>\n",
       "      <td>0</td>\n",
       "      <td>0</td>\n",
       "    </tr>\n",
       "    <tr>\n",
       "      <td>2</td>\n",
       "      <td>2008</td>\n",
       "      <td>1</td>\n",
       "      <td>1</td>\n",
       "      <td>2</td>\n",
       "      <td>730</td>\n",
       "      <td>840</td>\n",
       "      <td>70.0</td>\n",
       "      <td>236</td>\n",
       "      <td>9.0</td>\n",
       "      <td>0</td>\n",
       "      <td>...</td>\n",
       "      <td>0</td>\n",
       "      <td>0</td>\n",
       "      <td>0</td>\n",
       "      <td>0</td>\n",
       "      <td>0</td>\n",
       "      <td>0</td>\n",
       "      <td>0</td>\n",
       "      <td>0</td>\n",
       "      <td>0</td>\n",
       "      <td>0</td>\n",
       "    </tr>\n",
       "    <tr>\n",
       "      <td>3</td>\n",
       "      <td>2008</td>\n",
       "      <td>1</td>\n",
       "      <td>4</td>\n",
       "      <td>5</td>\n",
       "      <td>730</td>\n",
       "      <td>840</td>\n",
       "      <td>70.0</td>\n",
       "      <td>236</td>\n",
       "      <td>25.0</td>\n",
       "      <td>0</td>\n",
       "      <td>...</td>\n",
       "      <td>0</td>\n",
       "      <td>0</td>\n",
       "      <td>0</td>\n",
       "      <td>0</td>\n",
       "      <td>0</td>\n",
       "      <td>0</td>\n",
       "      <td>0</td>\n",
       "      <td>0</td>\n",
       "      <td>0</td>\n",
       "      <td>0</td>\n",
       "    </tr>\n",
       "    <tr>\n",
       "      <td>4</td>\n",
       "      <td>2008</td>\n",
       "      <td>1</td>\n",
       "      <td>7</td>\n",
       "      <td>1</td>\n",
       "      <td>730</td>\n",
       "      <td>840</td>\n",
       "      <td>70.0</td>\n",
       "      <td>236</td>\n",
       "      <td>18.0</td>\n",
       "      <td>0</td>\n",
       "      <td>...</td>\n",
       "      <td>0</td>\n",
       "      <td>0</td>\n",
       "      <td>0</td>\n",
       "      <td>0</td>\n",
       "      <td>0</td>\n",
       "      <td>0</td>\n",
       "      <td>0</td>\n",
       "      <td>0</td>\n",
       "      <td>0</td>\n",
       "      <td>0</td>\n",
       "    </tr>\n",
       "    <tr>\n",
       "      <td>...</td>\n",
       "      <td>...</td>\n",
       "      <td>...</td>\n",
       "      <td>...</td>\n",
       "      <td>...</td>\n",
       "      <td>...</td>\n",
       "      <td>...</td>\n",
       "      <td>...</td>\n",
       "      <td>...</td>\n",
       "      <td>...</td>\n",
       "      <td>...</td>\n",
       "      <td>...</td>\n",
       "      <td>...</td>\n",
       "      <td>...</td>\n",
       "      <td>...</td>\n",
       "      <td>...</td>\n",
       "      <td>...</td>\n",
       "      <td>...</td>\n",
       "      <td>...</td>\n",
       "      <td>...</td>\n",
       "      <td>...</td>\n",
       "      <td>...</td>\n",
       "    </tr>\n",
       "    <tr>\n",
       "      <td>138506</td>\n",
       "      <td>2008</td>\n",
       "      <td>8</td>\n",
       "      <td>20</td>\n",
       "      <td>3</td>\n",
       "      <td>1330</td>\n",
       "      <td>1508</td>\n",
       "      <td>38.0</td>\n",
       "      <td>85</td>\n",
       "      <td>18.0</td>\n",
       "      <td>0</td>\n",
       "      <td>...</td>\n",
       "      <td>0</td>\n",
       "      <td>0</td>\n",
       "      <td>0</td>\n",
       "      <td>0</td>\n",
       "      <td>0</td>\n",
       "      <td>0</td>\n",
       "      <td>0</td>\n",
       "      <td>0</td>\n",
       "      <td>0</td>\n",
       "      <td>0</td>\n",
       "    </tr>\n",
       "    <tr>\n",
       "      <td>138507</td>\n",
       "      <td>2008</td>\n",
       "      <td>8</td>\n",
       "      <td>22</td>\n",
       "      <td>5</td>\n",
       "      <td>1330</td>\n",
       "      <td>1508</td>\n",
       "      <td>38.0</td>\n",
       "      <td>85</td>\n",
       "      <td>19.0</td>\n",
       "      <td>0</td>\n",
       "      <td>...</td>\n",
       "      <td>0</td>\n",
       "      <td>0</td>\n",
       "      <td>0</td>\n",
       "      <td>0</td>\n",
       "      <td>0</td>\n",
       "      <td>0</td>\n",
       "      <td>0</td>\n",
       "      <td>0</td>\n",
       "      <td>0</td>\n",
       "      <td>0</td>\n",
       "    </tr>\n",
       "    <tr>\n",
       "      <td>138508</td>\n",
       "      <td>2008</td>\n",
       "      <td>8</td>\n",
       "      <td>25</td>\n",
       "      <td>1</td>\n",
       "      <td>2020</td>\n",
       "      <td>2158</td>\n",
       "      <td>38.0</td>\n",
       "      <td>85</td>\n",
       "      <td>9.0</td>\n",
       "      <td>0</td>\n",
       "      <td>...</td>\n",
       "      <td>0</td>\n",
       "      <td>0</td>\n",
       "      <td>0</td>\n",
       "      <td>0</td>\n",
       "      <td>0</td>\n",
       "      <td>0</td>\n",
       "      <td>0</td>\n",
       "      <td>0</td>\n",
       "      <td>0</td>\n",
       "      <td>0</td>\n",
       "    </tr>\n",
       "    <tr>\n",
       "      <td>138509</td>\n",
       "      <td>2008</td>\n",
       "      <td>8</td>\n",
       "      <td>28</td>\n",
       "      <td>4</td>\n",
       "      <td>1330</td>\n",
       "      <td>1508</td>\n",
       "      <td>38.0</td>\n",
       "      <td>85</td>\n",
       "      <td>17.0</td>\n",
       "      <td>0</td>\n",
       "      <td>...</td>\n",
       "      <td>0</td>\n",
       "      <td>0</td>\n",
       "      <td>0</td>\n",
       "      <td>0</td>\n",
       "      <td>0</td>\n",
       "      <td>0</td>\n",
       "      <td>0</td>\n",
       "      <td>0</td>\n",
       "      <td>0</td>\n",
       "      <td>0</td>\n",
       "    </tr>\n",
       "    <tr>\n",
       "      <td>138510</td>\n",
       "      <td>2008</td>\n",
       "      <td>9</td>\n",
       "      <td>4</td>\n",
       "      <td>4</td>\n",
       "      <td>2020</td>\n",
       "      <td>2158</td>\n",
       "      <td>38.0</td>\n",
       "      <td>85</td>\n",
       "      <td>12.0</td>\n",
       "      <td>0</td>\n",
       "      <td>...</td>\n",
       "      <td>0</td>\n",
       "      <td>0</td>\n",
       "      <td>0</td>\n",
       "      <td>0</td>\n",
       "      <td>0</td>\n",
       "      <td>0</td>\n",
       "      <td>0</td>\n",
       "      <td>0</td>\n",
       "      <td>0</td>\n",
       "      <td>0</td>\n",
       "    </tr>\n",
       "  </tbody>\n",
       "</table>\n",
       "<p>138511 rows × 436 columns</p>\n",
       "</div>"
      ],
      "text/plain": [
       "        Year  Month  DayofMonth  DayOfWeek  CRSDepTime  CRSArrTime  \\\n",
       "0       2008      2           3          7        1335        1613   \n",
       "1       2008      2          22          5        2102        2349   \n",
       "2       2008      1           1          2         730         840   \n",
       "3       2008      1           4          5         730         840   \n",
       "4       2008      1           7          1         730         840   \n",
       "...      ...    ...         ...        ...         ...         ...   \n",
       "138506  2008      8          20          3        1330        1508   \n",
       "138507  2008      8          22          5        1330        1508   \n",
       "138508  2008      8          25          1        2020        2158   \n",
       "138509  2008      8          28          4        1330        1508   \n",
       "138510  2008      9           4          4        2020        2158   \n",
       "\n",
       "        CRSElapsedTime  Distance  TaxiOut  Cancelled  ...  Dest_TVC  Dest_TWF  \\\n",
       "0                158.0       236     20.0          0  ...         0         0   \n",
       "1                167.0       236     14.0          0  ...         0         0   \n",
       "2                 70.0       236      9.0          0  ...         0         0   \n",
       "3                 70.0       236     25.0          0  ...         0         0   \n",
       "4                 70.0       236     18.0          0  ...         0         0   \n",
       "...                ...       ...      ...        ...  ...       ...       ...   \n",
       "138506            38.0        85     18.0          0  ...         0         0   \n",
       "138507            38.0        85     19.0          0  ...         0         0   \n",
       "138508            38.0        85      9.0          0  ...         0         0   \n",
       "138509            38.0        85     17.0          0  ...         0         0   \n",
       "138510            38.0        85     12.0          0  ...         0         0   \n",
       "\n",
       "        Dest_TXK  Dest_TYR  Dest_TYS  Dest_VPS  Dest_WYS  Dest_XNA  Dest_YKM  \\\n",
       "0              0         0         0         0         0         0         0   \n",
       "1              0         0         0         0         0         0         0   \n",
       "2              0         0         0         0         0         0         0   \n",
       "3              0         0         0         0         0         0         0   \n",
       "4              0         0         0         0         0         0         0   \n",
       "...          ...       ...       ...       ...       ...       ...       ...   \n",
       "138506         0         0         0         0         0         0         0   \n",
       "138507         0         0         0         0         0         0         0   \n",
       "138508         0         0         0         0         0         0         0   \n",
       "138509         0         0         0         0         0         0         0   \n",
       "138510         0         0         0         0         0         0         0   \n",
       "\n",
       "        Dest_YUM  \n",
       "0              0  \n",
       "1              0  \n",
       "2              0  \n",
       "3              0  \n",
       "4              0  \n",
       "...          ...  \n",
       "138506         0  \n",
       "138507         0  \n",
       "138508         0  \n",
       "138509         0  \n",
       "138510         0  \n",
       "\n",
       "[138511 rows x 436 columns]"
      ]
     },
     "execution_count": 21,
     "metadata": {},
     "output_type": "execute_result"
    }
   ],
   "source": [
    "df=pd.get_dummies(df,columns=['airport_x', 'airport_y','AIRLINE','Origin','Dest'],drop_first=True)\n",
    "df"
   ]
  },
  {
   "cell_type": "code",
   "execution_count": 22,
   "metadata": {},
   "outputs": [
    {
     "data": {
      "text/plain": [
       "9"
      ]
     },
     "execution_count": 22,
     "metadata": {},
     "output_type": "execute_result"
    }
   ],
   "source": [
    "index=df.columns.get_loc('Cancelled')\n",
    "index"
   ]
  },
  {
   "cell_type": "code",
   "execution_count": 23,
   "metadata": {},
   "outputs": [
    {
     "data": {
      "text/plain": [
       "0    138380\n",
       "1       131\n",
       "Name: Cancelled, dtype: int64"
      ]
     },
     "execution_count": 23,
     "metadata": {},
     "output_type": "execute_result"
    }
   ],
   "source": [
    "df['Cancelled'].value_counts()"
   ]
  },
  {
   "cell_type": "code",
   "execution_count": 24,
   "metadata": {},
   "outputs": [],
   "source": [
    "X=df.drop(['Cancelled'],axis=1)\n",
    "y=df['Cancelled']"
   ]
  },
  {
   "cell_type": "code",
   "execution_count": 25,
   "metadata": {},
   "outputs": [
    {
     "data": {
      "text/plain": [
       "(138511, 435)"
      ]
     },
     "execution_count": 25,
     "metadata": {},
     "output_type": "execute_result"
    }
   ],
   "source": [
    "X.shape"
   ]
  },
  {
   "cell_type": "code",
   "execution_count": 26,
   "metadata": {},
   "outputs": [
    {
     "data": {
      "text/plain": [
       "0    138380\n",
       "1       131\n",
       "Name: Cancelled, dtype: int64"
      ]
     },
     "execution_count": 26,
     "metadata": {},
     "output_type": "execute_result"
    }
   ],
   "source": [
    "y.value_counts()"
   ]
  },
  {
   "cell_type": "code",
   "execution_count": 27,
   "metadata": {},
   "outputs": [],
   "source": [
    "X_train, X_test, Y_train, Y_test = train_test_split(X, y, test_size=0.3, shuffle='True',random_state=100,stratify=y)"
   ]
  },
  {
   "cell_type": "code",
   "execution_count": 31,
   "metadata": {},
   "outputs": [
    {
     "data": {
      "text/plain": [
       "(96957, 435)"
      ]
     },
     "execution_count": 31,
     "metadata": {},
     "output_type": "execute_result"
    }
   ],
   "source": [
    "X_train.shape"
   ]
  },
  {
   "cell_type": "code",
   "execution_count": 29,
   "metadata": {},
   "outputs": [
    {
     "data": {
      "text/plain": [
       "(96957,)"
      ]
     },
     "execution_count": 29,
     "metadata": {},
     "output_type": "execute_result"
    }
   ],
   "source": [
    "Y_train.shape"
   ]
  },
  {
   "cell_type": "code",
   "execution_count": 30,
   "metadata": {
    "scrolled": false
   },
   "outputs": [
    {
     "data": {
      "text/plain": [
       "Index(['Year', 'Month', 'DayofMonth', 'DayOfWeek', 'CRSDepTime', 'CRSArrTime',\n",
       "       'CRSElapsedTime', 'Distance', 'TaxiOut', 'lat_x',\n",
       "       ...\n",
       "       'Dest_TVC', 'Dest_TWF', 'Dest_TXK', 'Dest_TYR', 'Dest_TYS', 'Dest_VPS',\n",
       "       'Dest_WYS', 'Dest_XNA', 'Dest_YKM', 'Dest_YUM'],\n",
       "      dtype='object', length=435)"
      ]
     },
     "execution_count": 30,
     "metadata": {},
     "output_type": "execute_result"
    }
   ],
   "source": [
    "X_test.columns"
   ]
  },
  {
   "cell_type": "markdown",
   "metadata": {},
   "source": [
    "#### Sampling"
   ]
  },
  {
   "cell_type": "raw",
   "metadata": {},
   "source": [
    "from imblearn.combine import SMOTETomek\n",
    "smt=SMOTETomek(ratio=0.5)\n",
    "\n",
    "x_train_res,y_train_res=smt.fit_sample(X_train, Y_train)\n",
    "\n",
    "X_s_train = x_train_res\n",
    "y_s_train = y_train_res"
   ]
  },
  {
   "cell_type": "raw",
   "metadata": {},
   "source": [
    "from imblearn.combine import SMOTETomek\n",
    "\n",
    "smt=SMOTETomek(ratio=0.7)\n",
    "\n",
    "x_train_res,y_train_res=smt.fit_sample(X_train, Y_train)\n",
    "\n",
    "X_s_train = x_train_res\n",
    "y_s_train = y_train_res"
   ]
  },
  {
   "cell_type": "markdown",
   "metadata": {},
   "source": [
    "#### Under Sampling"
   ]
  },
  {
   "cell_type": "raw",
   "metadata": {},
   "source": [
    "from imblearn.under_sampling import NearMiss\n",
    "nm=NearMiss(version=3, n_neighbors_ver3=3)\n",
    "x_train_res,y_train_res=nm.fit_sample(X_train, Y_train)\n",
    "\n",
    "X_s_train = x_train_res\n",
    "y_s_train = y_train_res"
   ]
  },
  {
   "cell_type": "raw",
   "metadata": {},
   "source": [
    "from imblearn.under_sampling import TomekLinks\n",
    "undersample = TomekLinks()\n",
    "x_train_res,y_train_res=undersample.fit_sample(X_train, Y_train)\n",
    "\n",
    "X_s_train_s = x_train_res\n",
    "y_s_train_s = y_train_res"
   ]
  },
  {
   "cell_type": "markdown",
   "metadata": {},
   "source": [
    "#### over sampling"
   ]
  },
  {
   "cell_type": "code",
   "execution_count": 32,
   "metadata": {},
   "outputs": [
    {
     "name": "stderr",
     "output_type": "stream",
     "text": [
      "Using TensorFlow backend.\n"
     ]
    }
   ],
   "source": [
    "from imblearn.over_sampling import RandomOverSampler\n",
    "os=RandomOverSampler(sampling_strategy=0.6)\n",
    "\n",
    "x_train_res,y_train_res=os.fit_sample(X_train, Y_train)\n",
    "\n",
    "X_s_train = x_train_res\n",
    "y_s_train = y_train_res"
   ]
  },
  {
   "cell_type": "raw",
   "metadata": {},
   "source": [
    "from imblearn.over_sampling import ADASYN\n",
    "sample=ADASYN()\n",
    "\n",
    "x_train_res,y_train_res=sample.fit_sample(X_train, Y_train)\n",
    "\n",
    "X_s_train = x_train_res\n",
    "y_s_train = y_train_res"
   ]
  },
  {
   "cell_type": "code",
   "execution_count": 33,
   "metadata": {},
   "outputs": [
    {
     "name": "stdout",
     "output_type": "stream",
     "text": [
      "Original dataset shape Counter({0: 138380, 1: 131})\n",
      "Resampled dataset shape Counter({0: 96865, 1: 58119})\n"
     ]
    }
   ],
   "source": [
    "from collections import Counter\n",
    "print('Original dataset shape {}'.format(Counter(y)))\n",
    "print('Resampled dataset shape {}'.format(Counter(y_s_train)))"
   ]
  },
  {
   "cell_type": "code",
   "execution_count": 34,
   "metadata": {},
   "outputs": [
    {
     "data": {
      "text/plain": [
       "array([0, 1], dtype=int64)"
      ]
     },
     "execution_count": 34,
     "metadata": {},
     "output_type": "execute_result"
    }
   ],
   "source": [
    "c=np.unique(y_s_train)\n",
    "c"
   ]
  },
  {
   "cell_type": "code",
   "execution_count": 35,
   "metadata": {},
   "outputs": [
    {
     "name": "stderr",
     "output_type": "stream",
     "text": [
      "C:\\Users\\arbet\\Anaconda3\\lib\\site-packages\\sklearn\\linear_model\\logistic.py:432: FutureWarning: Default solver will be changed to 'lbfgs' in 0.22. Specify a solver to silence this warning.\n",
      "  FutureWarning)\n",
      "C:\\Users\\arbet\\Anaconda3\\lib\\site-packages\\sklearn\\linear_model\\logistic.py:432: FutureWarning: Default solver will be changed to 'lbfgs' in 0.22. Specify a solver to silence this warning.\n",
      "  FutureWarning)\n",
      "C:\\Users\\arbet\\Anaconda3\\lib\\site-packages\\sklearn\\linear_model\\logistic.py:432: FutureWarning: Default solver will be changed to 'lbfgs' in 0.22. Specify a solver to silence this warning.\n",
      "  FutureWarning)\n",
      "C:\\Users\\arbet\\Anaconda3\\lib\\site-packages\\sklearn\\linear_model\\logistic.py:432: FutureWarning: Default solver will be changed to 'lbfgs' in 0.22. Specify a solver to silence this warning.\n",
      "  FutureWarning)\n",
      "C:\\Users\\arbet\\Anaconda3\\lib\\site-packages\\sklearn\\linear_model\\logistic.py:432: FutureWarning: Default solver will be changed to 'lbfgs' in 0.22. Specify a solver to silence this warning.\n",
      "  FutureWarning)\n",
      "C:\\Users\\arbet\\Anaconda3\\lib\\site-packages\\sklearn\\linear_model\\logistic.py:432: FutureWarning: Default solver will be changed to 'lbfgs' in 0.22. Specify a solver to silence this warning.\n",
      "  FutureWarning)\n",
      "C:\\Users\\arbet\\Anaconda3\\lib\\site-packages\\sklearn\\linear_model\\logistic.py:432: FutureWarning: Default solver will be changed to 'lbfgs' in 0.22. Specify a solver to silence this warning.\n",
      "  FutureWarning)\n",
      "C:\\Users\\arbet\\Anaconda3\\lib\\site-packages\\sklearn\\linear_model\\logistic.py:432: FutureWarning: Default solver will be changed to 'lbfgs' in 0.22. Specify a solver to silence this warning.\n",
      "  FutureWarning)\n"
     ]
    },
    {
     "data": {
      "text/plain": [
       "array([0.98459871, 0.98328892, 0.98166298, 0.98685696, 0.98220496,\n",
       "       0.98188799, 0.98084828])"
      ]
     },
     "execution_count": 35,
     "metadata": {},
     "output_type": "execute_result"
    }
   ],
   "source": [
    "from sklearn.linear_model import LogisticRegression\n",
    "from sklearn.model_selection import cross_val_score\n",
    "\n",
    "lr=LogisticRegression()\n",
    "lr.fit(X_s_train,y_s_train)\n",
    "cross_val_score(lr, X_s_train, y_s_train, cv=7)"
   ]
  },
  {
   "cell_type": "code",
   "execution_count": 36,
   "metadata": {},
   "outputs": [
    {
     "name": "stdout",
     "output_type": "stream",
     "text": [
      "Accuracy (test set): 0.973985657217115\n",
      "AUC (test set): 0.961363671456409\n"
     ]
    }
   ],
   "source": [
    "from sklearn.metrics import accuracy_score\n",
    "lr_pred = lr.predict(X_test)\n",
    "acc_test = accuracy_score(Y_test, lr_pred)\n",
    "auc_test = roc_auc_score(Y_test, lr_pred)\n",
    "print(\"Accuracy (test set):\",acc_test)\n",
    "print(\"AUC (test set):\",auc_test)"
   ]
  },
  {
   "cell_type": "code",
   "execution_count": 37,
   "metadata": {},
   "outputs": [
    {
     "data": {
      "text/plain": [
       "array([[40436,  1079],\n",
       "       [    2,    37]], dtype=int64)"
      ]
     },
     "execution_count": 37,
     "metadata": {},
     "output_type": "execute_result"
    }
   ],
   "source": [
    "from sklearn.metrics import confusion_matrix\n",
    "cm_lr = confusion_matrix(Y_test, lr_pred)\n",
    "cm_lr"
   ]
  },
  {
   "cell_type": "code",
   "execution_count": 38,
   "metadata": {},
   "outputs": [
    {
     "data": {
      "text/plain": [
       "Text(0.5, 0, 'FPS')"
      ]
     },
     "execution_count": 38,
     "metadata": {},
     "output_type": "execute_result"
    },
    {
     "data": {
      "image/png": "[encoded data removed]",
      "text/plain": [
       "<Figure size 720x720 with 1 Axes>"
      ]
     },
     "metadata": {
      "needs_background": "light"
     },
     "output_type": "display_data"
    }
   ],
   "source": [
    "import matplotlib.pyplot as plt\n",
    "y_hat=[x[1] for x in lr.predict_proba(X_test)]\n",
    "fps,tps,thresholds=roc_curve(Y_test,y_hat)\n",
    "\n",
    "plt.figure(figsize=(10,10))\n",
    "plt.title('abc')\n",
    "plt.plot(fps,tps,color='r',label='AUC')\n",
    "plt.legend(loc='lower right')\n",
    "plt.plot([0,1],[0,1],linestyle='--')\n",
    "plt.axis='right'\n",
    "plt.ylabel('TPS')\n",
    "plt.xlabel('FPS')"
   ]
  },
  {
   "cell_type": "code",
   "execution_count": 39,
   "metadata": {},
   "outputs": [
    {
     "name": "stdout",
     "output_type": "stream",
     "text": [
      "Accuracy of logistic regression classifier on test set: 0.97\n"
     ]
    }
   ],
   "source": [
    "print('Accuracy of logistic regression classifier on test set: {:.2f}'.format(lr.score(X_test, Y_test)))"
   ]
  },
  {
   "cell_type": "code",
   "execution_count": 40,
   "metadata": {},
   "outputs": [
    {
     "data": {
      "text/plain": [
       "array([0.96469495, 0.96557064, 0.96221545, 0.96448666, 0.96304135,\n",
       "       0.96551902, 0.9631962 , 0.96365889])"
      ]
     },
     "execution_count": 40,
     "metadata": {},
     "output_type": "execute_result"
    }
   ],
   "source": [
    "from sklearn.tree import DecisionTreeClassifier\n",
    "from sklearn.model_selection import cross_val_score\n",
    "\n",
    "dt=DecisionTreeClassifier(max_leaf_nodes=6,max_depth=10)\n",
    "dt.fit(X_s_train,y_s_train)\n",
    "cross_val_score(dt, X_s_train, y_s_train, cv=8)"
   ]
  },
  {
   "cell_type": "code",
   "execution_count": 41,
   "metadata": {},
   "outputs": [
    {
     "name": "stdout",
     "output_type": "stream",
     "text": [
      "Accuracy (test set): 0.9682100399480195\n",
      "AUC (test set): 0.9456646809772187\n"
     ]
    }
   ],
   "source": [
    "from sklearn.metrics import accuracy_score\n",
    "dt_pred = dt.predict(X_test)\n",
    "acc_test = accuracy_score(Y_test, dt_pred)\n",
    "auc_test = roc_auc_score(Y_test, dt_pred)\n",
    "print(\"Accuracy (test set):\",acc_test)\n",
    "print(\"AUC (test set):\",auc_test)"
   ]
  },
  {
   "cell_type": "code",
   "execution_count": 42,
   "metadata": {},
   "outputs": [
    {
     "data": {
      "text/plain": [
       "array([[40197,  1318],\n",
       "       [    3,    36]], dtype=int64)"
      ]
     },
     "execution_count": 42,
     "metadata": {},
     "output_type": "execute_result"
    }
   ],
   "source": [
    "from sklearn.metrics import confusion_matrix\n",
    "cm_dt = confusion_matrix(Y_test, dt_pred)\n",
    "cm_dt"
   ]
  },
  {
   "cell_type": "code",
   "execution_count": 44,
   "metadata": {},
   "outputs": [
    {
     "data": {
      "text/plain": [
       "Text(0.5, 0, 'FPS')"
      ]
     },
     "execution_count": 44,
     "metadata": {},
     "output_type": "execute_result"
    },
    {
     "data": {
      "image/png": "[encoded data removed]",
      "text/plain": [
       "<Figure size 720x720 with 1 Axes>"
      ]
     },
     "metadata": {
      "needs_background": "light"
     },
     "output_type": "display_data"
    }
   ],
   "source": [
    "import matplotlib.pyplot as plt\n",
    "y_hat=[x[1] for x in dt.predict_proba(X_test)]\n",
    "fps,tps,thresholds=roc_curve(Y_test,y_hat)\n",
    "\n",
    "plt.figure(figsize=(10,10))\n",
    "plt.title('abc')\n",
    "plt.plot(fps,tps,color='r',label='AUC')\n",
    "plt.legend(loc='lower right')\n",
    "plt.plot([0,1],[0,1],linestyle='--')\n",
    "plt.axis='right'\n",
    "plt.ylabel('TPS')\n",
    "plt.xlabel('FPS')"
   ]
  },
  {
   "cell_type": "code",
   "execution_count": 48,
   "metadata": {},
   "outputs": [
    {
     "data": {
      "text/plain": [
       "array([0.89382678, 0.95571156, 0.98265627, 0.96180251, 0.96779022,\n",
       "       0.97295205, 0.9748103 , 0.97114392])"
      ]
     },
     "execution_count": 48,
     "metadata": {},
     "output_type": "execute_result"
    }
   ],
   "source": [
    "from sklearn.ensemble import RandomForestClassifier\n",
    "rfc=RandomForestClassifier(n_estimators=20,criterion='gini',max_depth=6)\n",
    "rfc.fit(X_s_train,y_s_train)\n",
    "cross_val_score(rfc, X_s_train, y_s_train, cv=8)"
   ]
  },
  {
   "cell_type": "code",
   "execution_count": 49,
   "metadata": {},
   "outputs": [
    {
     "name": "stdout",
     "output_type": "stream",
     "text": [
      "Accuracy (test set): 0.9880155941666265\n",
      "AUC (test set): 0.7634497262342619\n"
     ]
    }
   ],
   "source": [
    "from sklearn.metrics import accuracy_score\n",
    "rfc_pred = rfc.predict(X_test)\n",
    "acc_test = accuracy_score(Y_test, rfc_pred)\n",
    "auc_test = roc_auc_score(Y_test, rfc_pred)\n",
    "print(\"Accuracy (test set):\",acc_test)\n",
    "print(\"AUC (test set):\",auc_test)"
   ]
  },
  {
   "cell_type": "code",
   "execution_count": 50,
   "metadata": {},
   "outputs": [
    {
     "data": {
      "text/plain": [
       "array([[41035,   480],\n",
       "       [   18,    21]], dtype=int64)"
      ]
     },
     "execution_count": 50,
     "metadata": {},
     "output_type": "execute_result"
    }
   ],
   "source": [
    "from sklearn.metrics import confusion_matrix\n",
    "cm_rfc = confusion_matrix(Y_test, rfc_pred)\n",
    "cm_rfc"
   ]
  },
  {
   "cell_type": "code",
   "execution_count": 51,
   "metadata": {},
   "outputs": [
    {
     "data": {
      "text/plain": [
       "Text(0.5, 0, 'FPS')"
      ]
     },
     "execution_count": 51,
     "metadata": {},
     "output_type": "execute_result"
    },
    {
     "data": {
      "image/png": "[encoded data removed]",
      "text/plain": [
       "<Figure size 720x720 with 1 Axes>"
      ]
     },
     "metadata": {
      "needs_background": "light"
     },
     "output_type": "display_data"
    }
   ],
   "source": [
    "import matplotlib.pyplot as plt\n",
    "y_hat=[x[1] for x in rfc.predict_proba(X_test)]\n",
    "fps,tps,thresholds=roc_curve(Y_test,y_hat)\n",
    "\n",
    "plt.figure(figsize=(10,10))\n",
    "plt.title('abc')\n",
    "plt.plot(fps,tps,color='r',label='AUC')\n",
    "plt.legend(loc='lower right')\n",
    "plt.plot([0,1],[0,1],linestyle='--')\n",
    "plt.axis='right'\n",
    "plt.ylabel('TPS')\n",
    "plt.xlabel('FPS')"
   ]
  },
  {
   "cell_type": "code",
   "execution_count": 52,
   "metadata": {},
   "outputs": [
    {
     "data": {
      "text/plain": [
       "array([0.97527614, 0.96500284, 0.97068084, 0.9578279 , 0.95168534,\n",
       "       0.97419088, 0.95860218, 0.97883543])"
      ]
     },
     "execution_count": 52,
     "metadata": {},
     "output_type": "execute_result"
    }
   ],
   "source": [
    "from sklearn.ensemble import AdaBoostClassifier\n",
    "abc=AdaBoostClassifier()\n",
    "abc.fit(X_s_train,y_s_train)\n",
    "cross_val_score(rfc, X_s_train, y_s_train, cv=8)"
   ]
  },
  {
   "cell_type": "code",
   "execution_count": 53,
   "metadata": {},
   "outputs": [
    {
     "name": "stdout",
     "output_type": "stream",
     "text": [
      "Accuracy (test set): 0.9868123405688983\n",
      "AUC (test set): 0.9421660999885738\n"
     ]
    }
   ],
   "source": [
    "from sklearn.metrics import accuracy_score\n",
    "abc_pred = abc.predict(X_test)\n",
    "acc_test = accuracy_score(Y_test, abc_pred)\n",
    "auc_test = roc_auc_score(Y_test, abc_pred)\n",
    "print(\"Accuracy (test set):\",acc_test)\n",
    "print(\"AUC (test set):\",auc_test)"
   ]
  },
  {
   "cell_type": "code",
   "execution_count": 54,
   "metadata": {},
   "outputs": [
    {
     "data": {
      "text/plain": [
       "Text(0.5, 0, 'FPS')"
      ]
     },
     "execution_count": 54,
     "metadata": {},
     "output_type": "execute_result"
    },
    {
     "data": {
      "image/png": "[encoded data removed]",
      "text/plain": [
       "<Figure size 720x720 with 1 Axes>"
      ]
     },
     "metadata": {
      "needs_background": "light"
     },
     "output_type": "display_data"
    }
   ],
   "source": [
    "import matplotlib.pyplot as plt\n",
    "y_hat=[x[1] for x in abc.predict_proba(X_test)]\n",
    "fps,tps,thresholds=roc_curve(Y_test,y_hat)\n",
    "\n",
    "plt.figure(figsize=(10,10))\n",
    "plt.title('abc')\n",
    "plt.plot(fps,tps,color='r',label='AUC')\n",
    "plt.legend(loc='lower right')\n",
    "plt.plot([0,1],[0,1],linestyle='--')\n",
    "plt.axis='right'\n",
    "plt.ylabel('TPS')\n",
    "plt.xlabel('FPS')"
   ]
  },
  {
   "cell_type": "code",
   "execution_count": 55,
   "metadata": {},
   "outputs": [
    {
     "data": {
      "text/plain": [
       "array([[40971,   544],\n",
       "       [    4,    35]], dtype=int64)"
      ]
     },
     "execution_count": 55,
     "metadata": {},
     "output_type": "execute_result"
    }
   ],
   "source": [
    "from sklearn.metrics import confusion_matrix\n",
    "cm_abc = confusion_matrix(Y_test, abc_pred)\n",
    "cm_abc"
   ]
  },
  {
   "cell_type": "code",
   "execution_count": 56,
   "metadata": {},
   "outputs": [
    {
     "data": {
      "text/plain": [
       "array([0.91142769, 0.91292004, 0.91384917, 0.91560419, 0.91245548,\n",
       "       0.91539772, 0.91085531, 0.9137931 ])"
      ]
     },
     "execution_count": 56,
     "metadata": {},
     "output_type": "execute_result"
    }
   ],
   "source": [
    "from sklearn.naive_bayes import GaussianNB\n",
    "nb=GaussianNB()\n",
    "nb.fit(X_s_train,y_s_train)\n",
    "cross_val_score(nb, X_s_train, y_s_train, cv=8)"
   ]
  },
  {
   "cell_type": "code",
   "execution_count": 57,
   "metadata": {},
   "outputs": [
    {
     "name": "stdout",
     "output_type": "stream",
     "text": [
      "Accuracy (test set): 0.8643692544640709\n",
      "AUC (test set): 0.7784192923781024\n"
     ]
    }
   ],
   "source": [
    "from sklearn.metrics import accuracy_score\n",
    "nb_pred = nb.predict(X_test)\n",
    "acc_test = accuracy_score(Y_test, nb_pred)\n",
    "auc_test = roc_auc_score(Y_test, nb_pred)\n",
    "print(\"Accuracy (test set):\",acc_test)\n",
    "print(\"AUC (test set):\",auc_test)"
   ]
  },
  {
   "cell_type": "code",
   "execution_count": 59,
   "metadata": {},
   "outputs": [
    {
     "data": {
      "text/plain": [
       "array([[35891,  5624],\n",
       "       [   12,    27]], dtype=int64)"
      ]
     },
     "execution_count": 59,
     "metadata": {},
     "output_type": "execute_result"
    }
   ],
   "source": [
    "from sklearn.metrics import confusion_matrix\n",
    "cm = confusion_matrix(Y_test, nb_pred)\n",
    "cm"
   ]
  },
  {
   "cell_type": "code",
   "execution_count": 60,
   "metadata": {},
   "outputs": [
    {
     "data": {
      "text/plain": [
       "Text(0.5, 0, 'FPS')"
      ]
     },
     "execution_count": 60,
     "metadata": {},
     "output_type": "execute_result"
    },
    {
     "data": {
      "image/png": "[encoded data removed]",
      "text/plain": [
       "<Figure size 720x720 with 1 Axes>"
      ]
     },
     "metadata": {
      "needs_background": "light"
     },
     "output_type": "display_data"
    }
   ],
   "source": [
    "import matplotlib.pyplot as plt\n",
    "y_hat=[x[1] for x in nb.predict_proba(X_test)]\n",
    "fps,tps,thresholds=roc_curve(Y_test,y_hat)\n",
    "\n",
    "plt.figure(figsize=(10,10))\n",
    "plt.title('abc')\n",
    "plt.plot(fps,tps,color='r',label='AUC')\n",
    "plt.legend(loc='lower right')\n",
    "plt.plot([0,1],[0,1],linestyle='--')\n",
    "plt.axis='right'\n",
    "plt.ylabel('TPS')\n",
    "plt.xlabel('FPS')"
   ]
  },
  {
   "cell_type": "code",
   "execution_count": 61,
   "metadata": {},
   "outputs": [
    {
     "data": {
      "text/plain": [
       "array([0.91142769, 0.91292004, 0.91384917, 0.91560419, 0.91245548,\n",
       "       0.91539772, 0.91085531, 0.9137931 ])"
      ]
     },
     "execution_count": 61,
     "metadata": {},
     "output_type": "execute_result"
    }
   ],
   "source": [
    "from sklearn.neighbors import KNeighborsClassifier\n",
    "classifier = KNeighborsClassifier(n_neighbors = 5, metric = 'minkowski', p = 2)\n",
    "classifier.fit(X_s_train,y_s_train)\n",
    "cross_val_score(nb, X_s_train, y_s_train, cv=8)"
   ]
  },
  {
   "cell_type": "code",
   "execution_count": 63,
   "metadata": {},
   "outputs": [
    {
     "name": "stdout",
     "output_type": "stream",
     "text": [
      "Accuracy (test set): 0.9967752803580883\n",
      "AUC (test set): 0.5116643042212113\n"
     ]
    }
   ],
   "source": [
    "from sklearn.metrics import accuracy_score\n",
    "knn_pred = classifier.predict(X_test)\n",
    "acc_test = accuracy_score(Y_test, knn_pred)\n",
    "auc_test = roc_auc_score(Y_test, knn_pred)\n",
    "print(\"Accuracy (test set):\",acc_test)\n",
    "print(\"AUC (test set):\",auc_test)"
   ]
  },
  {
   "cell_type": "code",
   "execution_count": 64,
   "metadata": {},
   "outputs": [
    {
     "data": {
      "text/plain": [
       "array([[41419,    96],\n",
       "       [   38,     1]], dtype=int64)"
      ]
     },
     "execution_count": 64,
     "metadata": {},
     "output_type": "execute_result"
    }
   ],
   "source": [
    "from sklearn.metrics import confusion_matrix\n",
    "cm = confusion_matrix(Y_test, knn_pred)\n",
    "cm"
   ]
  },
  {
   "cell_type": "code",
   "execution_count": 65,
   "metadata": {},
   "outputs": [
    {
     "data": {
      "text/plain": [
       "Text(0.5, 0, 'FPS')"
      ]
     },
     "execution_count": 65,
     "metadata": {},
     "output_type": "execute_result"
    },
    {
     "data": {
      "image/png": "[encoded data removed]",
      "text/plain": [
       "<Figure size 720x720 with 1 Axes>"
      ]
     },
     "metadata": {
      "needs_background": "light"
     },
     "output_type": "display_data"
    }
   ],
   "source": [
    "import matplotlib.pyplot as plt\n",
    "y_hat=[x[1] for x in classifier.predict_proba(X_test)]\n",
    "fps,tps,thresholds=roc_curve(Y_test,y_hat)\n",
    "\n",
    "plt.figure(figsize=(10,10))\n",
    "plt.title('abc')\n",
    "plt.plot(fps,tps,color='r',label='AUC')\n",
    "plt.legend(loc='lower right')\n",
    "plt.plot([0,1],[0,1],linestyle='--')\n",
    "plt.axis='right'\n",
    "plt.ylabel('TPS')\n",
    "plt.xlabel('FPS')"
   ]
  },
  {
   "cell_type": "code",
   "execution_count": null,
   "metadata": {},
   "outputs": [],
   "source": [
    "from sklearn.svm import SVC\n",
    "svm=SVC(kernel='linear')\n",
    "svm.fit(X_s_train,y_s_train)"
   ]
  },
  {
   "cell_type": "code",
   "execution_count": null,
   "metadata": {},
   "outputs": [],
   "source": [
    "from sklearn.metrics import accuracy_score\n",
    "pred = svm.predict(X_test)\n",
    "acc_test = accuracy_score(Y_test, pred)\n",
    "auc_test = roc_auc_score(Y_test, pred)\n",
    "print(\"Accuracy (test set):\",acc_test)\n",
    "print(\"AUC (test set):\",auc_test)"
   ]
  },
  {
   "cell_type": "code",
   "execution_count": null,
   "metadata": {},
   "outputs": [],
   "source": [
    "df['Cancelled'].value_counts()"
   ]
  },
  {
   "cell_type": "code",
   "execution_count": null,
   "metadata": {},
   "outputs": [],
   "source": [
    "def create_tree_classifier(classifier,X_train,y_train):\n",
    "\n",
    "    grid_search = None\n",
    "    best_classifier = None\n",
    "    accuracy = 0\n",
    "    auc = 0\n",
    "    \n",
    "    print('Treating ', classifier[0])\n",
    "    \n",
    "    ### BEGIN SOLUTION    \n",
    "\n",
    "    if classifier[0] == 'DecisionTree':\n",
    "        parameters = {'min_samples_leaf':[1,5,10],'max_depth':[None,10,20]}\n",
    "    elif classifier[0] == 'RandomForest':\n",
    "        parameters = {'min_samples_leaf':[5,10],'n_estimators':[10,30,50]}\n",
    "    elif classifier[0] == 'AdaBoost':\n",
    "        parameters = {'learning_rate':[0.5,1],'n_estimators':[10,30,50]}\n",
    "    \n",
    "    grid_search = GridSearchCV(classifier[1], parameters, cv=10)\n",
    "    grid_search.fit(X_s_train, y_s_train.values.reshape(-1,))\n",
    "    \n",
    "    pred = grid_search.predict(X_s_train)\n",
    "    \n",
    "    accuracy = accuracy_score(y_s_train, pred)\n",
    "    auc = roc_auc_score(y_s_train, pred)\n",
    "    best_classifier = grid_search.best_estimator_\n",
    "        \n",
    "    ### END SOLUTION\n",
    "    \n",
    "    return grid_search, best_classifier, accuracy, auc"
   ]
  },
  {
   "cell_type": "code",
   "execution_count": null,
   "metadata": {},
   "outputs": [],
   "source": [
    "gsr, bc, acc, auc = create_tree_classifier(('DecisionTree',DT()),X_s_train,y_s_train) \n",
    "print('Best classifier:',bc)\n",
    "pred = bc.predict(X_test)\n",
    "acc_test = accuracy_score(Y_test, pred)\n",
    "auc_test = roc_auc_score(Y_test, pred)\n",
    "print(\"Accuracy (test set):\",acc_test)\n",
    "print(\"AUC (test set):\",auc_test)"
   ]
  },
  {
   "cell_type": "code",
   "execution_count": null,
   "metadata": {},
   "outputs": [],
   "source": [
    "gsr, bc, acc, auc = create_tree_classifier(('RandomForest',RF()),X_s_train,y_s_train) \n",
    "print('Best classifier:',bc)\n",
    "pred = bc.predict(X_test)\n",
    "acc_test = accuracy_score(Y_test, pred)\n",
    "auc_test = roc_auc_score(Y_test, pred)\n",
    "print(\"Accuracy (test set):\",acc_test)\n",
    "print(\"AUC (test set):\",auc_test)"
   ]
  },
  {
   "cell_type": "code",
   "execution_count": null,
   "metadata": {},
   "outputs": [],
   "source": [
    "gsr, bc, acc, auc = create_tree_classifier(('AdaBoost',AdaBoost()),X_s_train,y_s_train) \n",
    "print('Best classifier:',bc)\n",
    "pred = bc.predict(X_test)\n",
    "acc_test = accuracy_score(Y_test, pred)\n",
    "auc_test = roc_auc_score(Y_test, pred)\n",
    "print(\"Accuracy (test set):\",acc_test)\n",
    "print(\"AUC (test set):\",auc_test)"
   ]
  },
  {
   "cell_type": "code",
   "execution_count": null,
   "metadata": {},
   "outputs": [],
   "source": [
    "def return_most_important_features(estimator,X_test,y_test):\n",
    "\n",
    "    important_features = set()\n",
    "    \n",
    "    estimator.fit(X_test,y_test.values.reshape(-1,))\n",
    "    \n",
    "    ### BEGIN SOLUTION \n",
    "    for c, column in enumerate(X_test.columns):\n",
    "        if estimator.feature_importances_[c] in sorted(estimator.feature_importances_)[-6:]:\n",
    "            important_features.add(column)\n",
    "    ### END SOLUTION\n",
    "    \n",
    "    return important_features"
   ]
  },
  {
   "cell_type": "code",
   "execution_count": null,
   "metadata": {},
   "outputs": [],
   "source": [
    "classifier = DT(class_weight=None, criterion='gini', max_depth=10,\n",
    "            max_features=None, max_leaf_nodes=None,\n",
    "            min_impurity_decrease=0.0, min_impurity_split=None,\n",
    "            min_samples_leaf=1, min_samples_split=2,\n",
    "            min_weight_fraction_leaf=0.0, presort=False, random_state=None,\n",
    "            splitter='best')\n",
    "\n",
    "return_most_important_features(classifier,X_test,Y_test)"
   ]
  },
  {
   "cell_type": "code",
   "execution_count": null,
   "metadata": {},
   "outputs": [],
   "source": [
    "from sklearn.svm import SVC\n",
    "from sklearn.model_selection import train_test_split\n",
    "from sklearn.metrics import accuracy_score, roc_auc_score\n",
    "\n",
    "\n",
    "\n",
    "# The gamma parameter is the kernel coefficient for kernels rbf/poly/sigmoid\n",
    "svm = SVC()\n",
    "\n",
    "svm.fit(X_s_train,y_s_train.values.ravel())\n",
    "prediction = svm.predict(X_test)\n",
    "print('Accuracy:', accuracy_score(Y_test,prediction))\n",
    "print('AUC:',roc_auc_score(Y_test,prediction))"
   ]
  },
  {
   "cell_type": "code",
   "execution_count": null,
   "metadata": {},
   "outputs": [],
   "source": [
    "from sklearn.model_selection import GridSearchCV\n",
    "\n",
    "parameters = {'kernel':['linear','poly','rbf'],'C':[0.2,0.5,1.0]}\n",
    "\n",
    "grid_search = GridSearchCV(SVC(gamma='auto'), parameters, cv=5,scoring='roc_auc')\n",
    "grid_search.fit(X_s_train, y_s_train.values.ravel())\n",
    "\n",
    "means = grid_search.cv_results_['mean_test_score']\n",
    "stds = grid_search.cv_results_['std_test_score']\n",
    "\n",
    "print('Mean AUC (+/- standard deviation), for parameters')\n",
    "for mean, std, params in zip(means, stds, grid_search.cv_results_['params']):\n",
    "    print(\"%0.3f (+/- %0.03f) for %r\"\n",
    "          % (mean, std, params))"
   ]
  },
  {
   "cell_type": "code",
   "execution_count": null,
   "metadata": {},
   "outputs": [],
   "source": [
    "\n",
    "# calculate roc curve\n",
    "fpr, tpr, thresholds = roc_curve(y, probs)\n",
    "# calculate AUC\n",
    "auc = roc_auc_score(y_test, prediction)\n",
    "print('AUC: %.3f' % auc)"
   ]
  },
  {
   "cell_type": "code",
   "execution_count": null,
   "metadata": {},
   "outputs": [],
   "source": []
  }
 ],
 "metadata": {
  "kernelspec": {
   "display_name": "Python 3",
   "language": "python",
   "name": "python3"
  },
  "language_info": {
   "codemirror_mode": {
    "name": "ipython",
    "version": 3
   },
   "file_extension": ".py",
   "mimetype": "text/x-python",
   "name": "python",
   "nbconvert_exporter": "python",
   "pygments_lexer": "ipython3",
   "version": "3.8.5"
  }
 },
 "nbformat": 4,
 "nbformat_minor": 4
}
